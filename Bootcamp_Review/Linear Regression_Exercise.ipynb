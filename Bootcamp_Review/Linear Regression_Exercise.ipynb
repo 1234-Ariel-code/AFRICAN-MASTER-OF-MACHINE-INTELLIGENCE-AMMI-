{
 "cells": [
  {
   "cell_type": "markdown",
   "metadata": {},
   "source": [
    "# Linear Regression Exercise"
   ]
  },
  {
   "cell_type": "code",
   "execution_count": 61,
   "metadata": {},
   "outputs": [],
   "source": [
    "import numpy as np\n",
    "import matplotlib.pyplot as plt\n",
    "\n",
    "%matplotlib inline"
   ]
  },
  {
   "cell_type": "code",
   "execution_count": 62,
   "metadata": {
    "jupyter": {
     "outputs_hidden": false
    }
   },
   "outputs": [],
   "source": [
    "# Generating our data.\n",
    "\n",
    "X = np.linspace(1.0, 10.0, 100)[:, np.newaxis]\n",
    "Y = np.sin(X) + 0.1 * np.power(X, 2) + 0.5 * np.random.randn(100, 1)\n",
    "X /= np.max(X)\n",
    "\n",
    "\n",
    "X = np.hstack((np.ones_like(X), X))"
   ]
  },
  {
   "cell_type": "code",
   "execution_count": 63,
   "metadata": {},
   "outputs": [
    {
     "data": {
      "text/plain": [
       "(100, 2)"
      ]
     },
     "execution_count": 63,
     "metadata": {},
     "output_type": "execute_result"
    }
   ],
   "source": [
    "X.shape"
   ]
  },
  {
   "cell_type": "code",
   "execution_count": 64,
   "metadata": {},
   "outputs": [
    {
     "data": {
      "text/plain": [
       "(100, 1)"
      ]
     },
     "execution_count": 64,
     "metadata": {},
     "output_type": "execute_result"
    }
   ],
   "source": [
    "Y.shape"
   ]
  },
  {
   "cell_type": "code",
   "execution_count": 65,
   "metadata": {
    "jupyter": {
     "outputs_hidden": false
    }
   },
   "outputs": [],
   "source": [
    "order = np.random.permutation(len(X))\n",
    "portion = 20\n",
    "\n",
    "\"\"\"\n",
    "    Split your data into train and test using the order and permutation variable\n",
    "\"\"\"\n",
    "train_x = X[order[portion:]]\n",
    "train_y = Y[order[portion:]]\n",
    "\n",
    "test_x= X[order[:portion]]\n",
    "test_y= Y[order[:portion]]"
   ]
  },
  {
   "cell_type": "code",
   "execution_count": 66,
   "metadata": {
    "jupyter": {
     "outputs_hidden": false
    }
   },
   "outputs": [],
   "source": [
    "def get_gradient(w, x, y):\n",
    "    \"\"\"\n",
    "        Enter code for error, mse and gradient\n",
    "    \"\"\"\n",
    "    y_estimate = x.dot(w).flatten()\n",
    "    error = (y.flatten()-y_estimate)\n",
    "    mse = (1/len(y))* np.sum(np.power(error , 2))\n",
    "    gradient = -(1/len(y)) * error.dot(x)\n",
    "    \n",
    "    return gradient, mse"
   ]
  },
  {
   "cell_type": "code",
   "execution_count": 67,
   "metadata": {
    "jupyter": {
     "outputs_hidden": false
    }
   },
   "outputs": [
    {
     "name": "stdout",
     "output_type": "stream",
     "text": [
      "Iterations: 0 -Error : 17.6434\n",
      "Iterations: 100 -Error : 17.3418\n",
      "Iterations: 200 -Error : 17.0479\n",
      "Iterations: 300 -Error : 16.7617\n",
      "Iterations: 400 -Error : 16.4830\n",
      "Iterations: 500 -Error : 16.2115\n",
      "Iterations: 600 -Error : 15.9471\n",
      "Iterations: 700 -Error : 15.6895\n",
      "Iterations: 800 -Error : 15.4386\n",
      "Iterations: 900 -Error : 15.1943\n",
      "Iterations: 1000 -Error : 14.9563\n",
      "Iterations: 1100 -Error : 14.7244\n",
      "Iterations: 1200 -Error : 14.4986\n",
      "Iterations: 1300 -Error : 14.2786\n",
      "Iterations: 1400 -Error : 14.0643\n",
      "Iterations: 1500 -Error : 13.8555\n",
      "Iterations: 1600 -Error : 13.6521\n",
      "Iterations: 1700 -Error : 13.4540\n",
      "Iterations: 1800 -Error : 13.2611\n",
      "Iterations: 1900 -Error : 13.0730\n",
      "Iterations: 2000 -Error : 12.8899\n",
      "Iterations: 2100 -Error : 12.7114\n",
      "Iterations: 2200 -Error : 12.5376\n",
      "Iterations: 2300 -Error : 12.3682\n",
      "Iterations: 2400 -Error : 12.2032\n",
      "Iterations: 2500 -Error : 12.0424\n",
      "Iterations: 2600 -Error : 11.8858\n",
      "Iterations: 2700 -Error : 11.7331\n",
      "Iterations: 2800 -Error : 11.5844\n",
      "Iterations: 2900 -Error : 11.4395\n",
      "Iterations: 3000 -Error : 11.2983\n",
      "Iterations: 3100 -Error : 11.1607\n",
      "Iterations: 3200 -Error : 11.0266\n",
      "Iterations: 3300 -Error : 10.8959\n",
      "Iterations: 3400 -Error : 10.7686\n",
      "Iterations: 3500 -Error : 10.6445\n",
      "Iterations: 3600 -Error : 10.5236\n",
      "Iterations: 3700 -Error : 10.4057\n",
      "Iterations: 3800 -Error : 10.2909\n",
      "Iterations: 3900 -Error : 10.1789\n",
      "Iterations: 4000 -Error : 10.0698\n",
      "Iterations: 4100 -Error : 9.9635\n",
      "Iterations: 4200 -Error : 9.8598\n",
      "Iterations: 4300 -Error : 9.7588\n",
      "Iterations: 4400 -Error : 9.6603\n",
      "Iterations: 4500 -Error : 9.5643\n",
      "Iterations: 4600 -Error : 9.4707\n",
      "Iterations: 4700 -Error : 9.3794\n",
      "Iterations: 4800 -Error : 9.2905\n",
      "Iterations: 4900 -Error : 9.2037\n",
      "Iterations: 5000 -Error : 9.1192\n",
      "Iterations: 5100 -Error : 9.0367\n",
      "Iterations: 5200 -Error : 8.9563\n",
      "Iterations: 5300 -Error : 8.8780\n",
      "Iterations: 5400 -Error : 8.8015\n",
      "Iterations: 5500 -Error : 8.7270\n",
      "Iterations: 5600 -Error : 8.6543\n",
      "Iterations: 5700 -Error : 8.5834\n",
      "Iterations: 5800 -Error : 8.5143\n",
      "Iterations: 5900 -Error : 8.4468\n",
      "Iterations: 6000 -Error : 8.3811\n",
      "Iterations: 6100 -Error : 8.3169\n",
      "Iterations: 6200 -Error : 8.2543\n",
      "Iterations: 6300 -Error : 8.1933\n",
      "Iterations: 6400 -Error : 8.1337\n",
      "Iterations: 6500 -Error : 8.0756\n",
      "Iterations: 6600 -Error : 8.0189\n",
      "Iterations: 6700 -Error : 7.9636\n",
      "Iterations: 6800 -Error : 7.9096\n",
      "Iterations: 6900 -Error : 7.8570\n",
      "Iterations: 7000 -Error : 7.8056\n",
      "Iterations: 7100 -Error : 7.7554\n",
      "Iterations: 7200 -Error : 7.7064\n",
      "Iterations: 7300 -Error : 7.6586\n",
      "Iterations: 7400 -Error : 7.6120\n",
      "Iterations: 7500 -Error : 7.5665\n",
      "Iterations: 7600 -Error : 7.5220\n",
      "Iterations: 7700 -Error : 7.4786\n",
      "Iterations: 7800 -Error : 7.4363\n",
      "Iterations: 7900 -Error : 7.3949\n",
      "Iterations: 8000 -Error : 7.3545\n",
      "Iterations: 8100 -Error : 7.3151\n",
      "Iterations: 8200 -Error : 7.2765\n",
      "Iterations: 8300 -Error : 7.2389\n",
      "Iterations: 8400 -Error : 7.2021\n",
      "Iterations: 8500 -Error : 7.1662\n",
      "Iterations: 8600 -Error : 7.1312\n",
      "Iterations: 8700 -Error : 7.0969\n",
      "Iterations: 8800 -Error : 7.0634\n",
      "Iterations: 8900 -Error : 7.0307\n",
      "Iterations: 9000 -Error : 6.9987\n",
      "Iterations: 9100 -Error : 6.9675\n",
      "Iterations: 9200 -Error : 6.9369\n",
      "Iterations: 9300 -Error : 6.9071\n",
      "Iterations: 9400 -Error : 6.8779\n",
      "Iterations: 9500 -Error : 6.8494\n",
      "Iterations: 9600 -Error : 6.8215\n",
      "Iterations: 9700 -Error : 6.7942\n",
      "Iterations: 9800 -Error : 6.7675\n",
      "Iterations: 9900 -Error : 6.7414\n",
      "w = [1.77702732 2.86030952]\n",
      "Test Cost = 4.479044281895469\n"
     ]
    }
   ],
   "source": [
    "w = np.random.randn(2)\n",
    "alpha = 0.0001\n",
    "\n",
    "\"\"\"\n",
    "    Using the get_gradient function, run the Linear regression\n",
    "    use iteration of 10000\n",
    "\"\"\"\n",
    "for i in range(10000):\n",
    "    gradient, error = get_gradient(w, train_x, train_y)\n",
    "    \n",
    "    w_new = w - alpha*gradient\n",
    "    if i% 100 == 0:\n",
    "        print(\"Iterations: %d -Error : %.4f\" %(i, error))\n",
    "        \n",
    "    w = w_new ## Change to your value\n",
    "\n",
    "print(\"w =\", w)\n",
    "print( \"Test Cost =\", get_gradient(w, test_x, test_y)[1])"
   ]
  },
  {
   "cell_type": "code",
   "execution_count": 68,
   "metadata": {},
   "outputs": [
    {
     "name": "stdout",
     "output_type": "stream",
     "text": [
      "w = [1.55443523 0.57586793]\n",
      "Test Cost = 8.146529522462666\n"
     ]
    }
   ],
   "source": [
    "w = np.random.randn(2)\n",
    "alpha = 0.0001\n",
    "tolerence=1e-5\n",
    "\n",
    "\"\"\"\n",
    "    Using the get_gradient function, run the Linear regression\n",
    "    use iteration of 10000\n",
    "\"\"\"\n",
    "while True:\n",
    "        gradient, error = get_gradient(w, train_x, train_y)\n",
    "    \n",
    "        w_new = w - alpha*gradient\n",
    "        if i% 100 == 0:\n",
    "            print(\"Iterations: %d -Error : %.4f\" %(i, error))\n",
    "        \n",
    "        w = w_new ## Change to your value\n",
    "        if np.sum(np.abs(w_new - w)) < tolerence:\n",
    "            break\n",
    "\n",
    "print(\"w =\", w)\n",
    "print( \"Test Cost =\", get_gradient(w, test_x, test_y)[1])"
   ]
  },
  {
   "cell_type": "code",
   "execution_count": 69,
   "metadata": {},
   "outputs": [],
   "source": [
    "\n",
    "\n",
    "def gradient_descent(X,y,theta,alpha=0.1,iterations=100):\n",
    "    '''\n",
    "    X    = Matrix of X with added bias units\n",
    "    y    = Vector of Y\n",
    "    theta=Vector of thetas np.random.randn(j,1)\n",
    "    learning_rate \n",
    "    iterations = no of iterations\n",
    "    \n",
    "    Returns the final theta vector and array of cost history over no of iterations\n",
    "    '''\n",
    "    m = len(y)\n",
    "    mse_new = np.zeros(iterations)\n",
    "    theta_new = np.zeros((iterations,2))\n",
    "    for it in range(iterations):\n",
    "        \n",
    "        prediction = np.dot(X,theta)\n",
    "        \n",
    "        theta = theta -(1/m)*alpha*( X.T.dot((prediction - y)))\n",
    "        theta_new[it,:] =theta.T\n",
    "        mse_new[it]  = get_gradient(theta,X,y)\n",
    "        \n",
    "    return theta, mse_new, theta_new\n",
    "\n"
   ]
  },
  {
   "cell_type": "markdown",
   "metadata": {},
   "source": [
    "Plotting the Model we obtained"
   ]
  },
  {
   "cell_type": "code",
   "execution_count": 70,
   "metadata": {
    "jupyter": {
     "outputs_hidden": false
    }
   },
   "outputs": [
    {
     "data": {
      "image/png": "[encoded data removed]",
      "text/plain": [
       "<Figure size 432x288 with 1 Axes>"
      ]
     },
     "metadata": {
      "needs_background": "light"
     },
     "output_type": "display_data"
    }
   ],
   "source": [
    "plt.plot(X[:,1], X.dot(w), c='g', label='Model')\n",
    "plt.scatter(train_x[:,1], train_y, c='b', label='Train Set')\n",
    "plt.scatter(test_x[:,1], test_y, c='r', label='Test Set')\n",
    "plt.grid()\n",
    "plt.legend(loc='best')\n",
    "plt.xlabel('X')\n",
    "plt.ylabel('Y')\n",
    "plt.show()"
   ]
  },
  {
   "cell_type": "markdown",
   "metadata": {},
   "source": [
    "Generate contour plot of the cost function"
   ]
  },
  {
   "cell_type": "code",
   "execution_count": 71,
   "metadata": {
    "jupyter": {
     "outputs_hidden": false
    }
   },
   "outputs": [
    {
     "name": "stderr",
     "output_type": "stream",
     "text": [
      "/usr/lib/python3/dist-packages/matplotlib/contour.py:1000: UserWarning: The following kwargs were not used by contour: 'label'\n",
      "  s)\n"
     ]
    },
    {
     "data": {
      "image/png": "[encoded data removed]",
      "text/plain": [
       "<Figure size 432x288 with 1 Axes>"
      ]
     },
     "metadata": {
      "needs_background": "light"
     },
     "output_type": "display_data"
    }
   ],
   "source": [
    "w1 = np.linspace(-w[1]*3, w[1]*3, 300)\n",
    "w0 = np.linspace(-w[0]*3, w[0]*3, 300)\n",
    "J_vals = np.zeros(shape=(w1.size, w0.size))\n",
    "\n",
    "for t1, element in enumerate(w1):\n",
    "    for t2, element2 in enumerate(w0):\n",
    "        wT = [0, 0]\n",
    "        wT[1] = element\n",
    "        wT[0] = element2\n",
    "        J_vals[t1, t2] = get_gradient(wT, train_x, train_y)[1]\n",
    "\n",
    "plt.scatter(w[0], w[1], marker='*', color='r', s=40, label='Solution Found')\n",
    "CS = plt.contour(w0, w1, J_vals, np.logspace(-10,10,50), label='Cost Function')\n",
    "plt.clabel(CS, inline=1, fontsize=10)\n",
    "plt.title(\"Contour Plot of Cost Function\")\n",
    "plt.xlabel(\"w0\")\n",
    "plt.ylabel(\"w1\")\n",
    "plt.legend(loc='best')\n",
    "plt.show()"
   ]
  },
  {
   "cell_type": "markdown",
   "metadata": {},
   "source": [
    "Extra Exercises.\n",
    "\n",
    "Describe what you see in the both diagrams you have."
   ]
  },
  {
   "cell_type": "code",
   "execution_count": 72,
   "metadata": {},
   "outputs": [],
   "source": [
    "### The error of estimator is a bit closed to "
   ]
  }
 ],
 "metadata": {
  "kernelspec": {
   "display_name": "Python 3",
   "language": "python",
   "name": "python3"
  },
  "language_info": {
   "codemirror_mode": {
    "name": "ipython",
    "version": 3
   },
   "file_extension": ".py",
   "mimetype": "text/x-python",
   "name": "python",
   "nbconvert_exporter": "python",
   "pygments_lexer": "ipython3",
   "version": "3.7.3"
  }
 },
 "nbformat": 4,
 "nbformat_minor": 4
}
