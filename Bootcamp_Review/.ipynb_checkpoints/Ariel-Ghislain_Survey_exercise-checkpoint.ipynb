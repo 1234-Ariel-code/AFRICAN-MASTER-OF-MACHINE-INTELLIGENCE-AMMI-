{
 "cells": [
  {
   "cell_type": "markdown",
   "metadata": {},
   "source": [
    "### Survey Questions for python tutorial\n",
    "\n",
    "#### You are not expected to consult any resources for this, except python syntax. This is just to access the area to focus for tutorial"
   ]
  },
  {
   "cell_type": "markdown",
   "metadata": {},
   "source": [
    "1.\n",
    "We'll pass you an array of two numbers. Return the sum of those two numbers plus the sum of all the numbers between them. The lowest number will not always come first.\n",
    "\n",
    "For example, sumAll([4,1]) should return 10 because sum of all the numbers between 1 and 4 (both inclusive) is 10."
   ]
  },
  {
   "cell_type": "code",
   "execution_count": 65,
   "metadata": {},
   "outputs": [],
   "source": [
    "import numpy as np\n",
    "def sumAll(arr):\n",
    "    summation=np.sum(range(min(arr), max(arr)+1))\n",
    "    return summation"
   ]
  },
  {
   "cell_type": "code",
   "execution_count": 66,
   "metadata": {},
   "outputs": [
    {
     "data": {
      "text/plain": [
       "10"
      ]
     },
     "execution_count": 66,
     "metadata": {},
     "output_type": "execute_result"
    }
   ],
   "source": [
    "sumAll([1, 4])"
   ]
  },
  {
   "cell_type": "code",
   "execution_count": 67,
   "metadata": {},
   "outputs": [
    {
     "data": {
      "text/plain": [
       "10"
      ]
     },
     "execution_count": 67,
     "metadata": {},
     "output_type": "execute_result"
    }
   ],
   "source": [
    "sumAll([4, 1])"
   ]
  },
  {
   "cell_type": "code",
   "execution_count": 68,
   "metadata": {},
   "outputs": [
    {
     "data": {
      "text/plain": [
       "45"
      ]
     },
     "execution_count": 68,
     "metadata": {},
     "output_type": "execute_result"
    }
   ],
   "source": [
    "sumAll([5, 10])\n"
   ]
  },
  {
   "cell_type": "markdown",
   "metadata": {},
   "source": [
    "2.\n",
    "Compare two arrays and return a new array with any items only found in one of the two given arrays, but not both. In other words, return the symmetric difference of the two arrays."
   ]
  },
  {
   "cell_type": "code",
   "execution_count": 69,
   "metadata": {},
   "outputs": [],
   "source": [
    "def diffArray(arr1, arr2):\n",
    "    res = []\n",
    "     \n",
    "    for i in arr1+arr2:\n",
    "        if i in arr1:\n",
    "            if i not in arr2:\n",
    "                res.append(i)\n",
    "                \n",
    "        if i in arr2:\n",
    "            if i not in arr1:\n",
    "                res.append(i)\n",
    "    return res"
   ]
  },
  {
   "cell_type": "code",
   "execution_count": 70,
   "metadata": {},
   "outputs": [
    {
     "name": "stdout",
     "output_type": "stream",
     "text": [
      "[4]\n"
     ]
    }
   ],
   "source": [
    "print(diffArray([1, 2, 3, 5], [1, 2, 3, 4, 5]))"
   ]
  },
  {
   "cell_type": "code",
   "execution_count": 71,
   "metadata": {},
   "outputs": [
    {
     "name": "stdout",
     "output_type": "stream",
     "text": [
      "['pink wool']  ===  [\"pink wool\"]\n"
     ]
    }
   ],
   "source": [
    "print(diffArray([\"diorite\", \"andesite\", \"grass\", \"dirt\", \"pink wool\", \"dead shrub\"], \n",
    "          [\"diorite\", \"andesite\", \"grass\", \"dirt\", \"dead shrub\"]), ' === ',  '[\"pink wool\"]')"
   ]
  },
  {
   "cell_type": "code",
   "execution_count": 72,
   "metadata": {},
   "outputs": [
    {
     "name": "stdout",
     "output_type": "stream",
     "text": [
      "['piglet', 4]  ==  [\"piglet\", 4]\n"
     ]
    }
   ],
   "source": [
    "print(diffArray([1, \"calf\", 3, \"piglet\"], [1, \"calf\", 3, 4]), ' == ', '[\"piglet\", 4]')"
   ]
  },
  {
   "cell_type": "markdown",
   "metadata": {},
   "source": [
    "3.\n",
    "You will be provided with an initial array (the first argument in the destroyer function), followed by one or more arguments. Remove all elements from the initial array that are of the same value as these arguments."
   ]
  },
  {
   "cell_type": "code",
   "execution_count": 130,
   "metadata": {},
   "outputs": [],
   "source": [
    "def destroyer(arr, arg):\n",
    "        for i in arr:\n",
    "            if(arr[i] == arg):\n",
    "                del(arr[i])\n",
    "        return arr"
   ]
  },
  {
   "cell_type": "code",
   "execution_count": 131,
   "metadata": {},
   "outputs": [
    {
     "data": {
      "text/plain": [
       "[1, 3, 1, 3]"
      ]
     },
     "execution_count": 131,
     "metadata": {},
     "output_type": "execute_result"
    }
   ],
   "source": [
    "destroyer([1, 2, 3, 1, 2, 3], 2) #should return [1, 1]."
   ]
  },
  {
   "cell_type": "code",
   "execution_count": 132,
   "metadata": {},
   "outputs": [
    {
     "data": {
      "text/plain": [
       "[1, 3, 5, 1, 2, 3]"
      ]
     },
     "execution_count": 132,
     "metadata": {},
     "output_type": "execute_result"
    }
   ],
   "source": [
    "destroyer([1, 2, 3, 5, 1, 2, 3], 2) #should return [1, 5, 1]."
   ]
  },
  {
   "cell_type": "code",
   "execution_count": null,
   "metadata": {},
   "outputs": [],
   "source": []
  },
  {
   "cell_type": "code",
   "execution_count": null,
   "metadata": {},
   "outputs": [],
   "source": [
    "##This part is a bit confusing for Me Jerry, because its like this function must be dynamic!!!"
   ]
  },
  {
   "cell_type": "code",
   "execution_count": null,
   "metadata": {},
   "outputs": [],
   "source": []
  },
  {
   "cell_type": "markdown",
   "metadata": {},
   "source": [
    "4.You will be provided with a list of characters, create a function that return a reverse of that list"
   ]
  },
  {
   "cell_type": "code",
   "execution_count": 29,
   "metadata": {},
   "outputs": [],
   "source": [
    "def reverse(chars):\n",
    "    # TODO: Implement me\n",
    "    final_list=[]\n",
    "    [final_list.append(i) for i in reversed(chars)]\n",
    "    print(final_list)\n",
    "    pass\n",
    "\n",
    "#reverse(['f', 'o', 'o', ' ', 'b', 'a', 'r']) # should return ['r', 'a', 'b', ' ', 'o', 'o', 'f']\n",
    "#reverse(['e', 'x', 'a', 'm', 'p', 'l', 'e']) # should return ['e', 'l', 'p', 'm', 'a', 'x', 'e']"
   ]
  },
  {
   "cell_type": "code",
   "execution_count": 30,
   "metadata": {},
   "outputs": [
    {
     "name": "stdout",
     "output_type": "stream",
     "text": [
      "['r', 'a', 'b', ' ', 'o', 'o', 'f']\n"
     ]
    }
   ],
   "source": [
    "reverse(['f', 'o', 'o', ' ', 'b', 'a', 'r'])"
   ]
  },
  {
   "cell_type": "code",
   "execution_count": 31,
   "metadata": {},
   "outputs": [
    {
     "name": "stdout",
     "output_type": "stream",
     "text": [
      "['e', 'l', 'p', 'm', 'a', 'x', 'e']\n"
     ]
    }
   ],
   "source": [
    "reverse(['e', 'x', 'a', 'm', 'p', 'l', 'e'])"
   ]
  },
  {
   "cell_type": "markdown",
   "metadata": {},
   "source": [
    "5.Given a magazine, see if a ransom note could have been written using the letters in the magazine."
   ]
  },
  {
   "cell_type": "code",
   "execution_count": null,
   "metadata": {},
   "outputs": [],
   "source": [
    "def match_note_to_magazine(self, ransom_note, magazine):\n",
    "    # TODO: Implement me\n",
    "   \n",
    "    pass\n",
    "\n",
    "match_note_to_magazine('aa', 'aab') # should return true\n",
    "match_note_to_magazine('cc', 'bgghh') # should return true"
   ]
  },
  {
   "cell_type": "markdown",
   "metadata": {},
   "source": [
    "6. Define a python class that describe various attributes and methods or actions for a car"
   ]
  },
  {
   "cell_type": "code",
   "execution_count": 136,
   "metadata": {},
   "outputs": [],
   "source": [
    "class Car:\n",
    "    # Implement me\n",
    "    def __init__(self, color_car, type_car):\n",
    "        self.color_car = color_car\n",
    "        self.type_car = type_car\n",
    "        \n",
    "    def variety(self):\n",
    "        print (\"The following car is {} and the color of the car is {} \".format(self.type_car,self.color_car))\n",
    "        return self.type_car\n",
    "  \n",
    "    pass"
   ]
  },
  {
   "cell_type": "markdown",
   "metadata": {},
   "source": [
    "7. Define a python class that take two parameters name and the year someone was born. add a method or action to that class that print the age of that person from today's date"
   ]
  },
  {
   "cell_type": "code",
   "execution_count": 138,
   "metadata": {},
   "outputs": [],
   "source": [
    "class Person:\n",
    "    # Implement me\n",
    "    def __init__(self, name_person, age_person,current_year):\n",
    "        self.name_person = name_person\n",
    "        self.age_person = age_person\n",
    "        self.current_year = current_year\n",
    "        \n",
    "    def My_age(self):\n",
    "        self.age = datetime.now().current_year - self.current_year\n",
    "        print (\"Age of {} is {}\". format (self.name_person, self.age_person))\n",
    "    pass"
   ]
  },
  {
   "cell_type": "markdown",
   "metadata": {},
   "source": [
    "Please comment on all the areas that you feel you are strugling with in python"
   ]
  },
  {
   "cell_type": "code",
   "execution_count": null,
   "metadata": {},
   "outputs": [],
   "source": []
  }
 ],
 "metadata": {
  "kernelspec": {
   "display_name": "Python 3",
   "language": "python",
   "name": "python3"
  },
  "language_info": {
   "codemirror_mode": {
    "name": "ipython",
    "version": 3
   },
   "file_extension": ".py",
   "mimetype": "text/x-python",
   "name": "python",
   "nbconvert_exporter": "python",
   "pygments_lexer": "ipython3",
   "version": "3.7.3"
  }
 },
 "nbformat": 4,
 "nbformat_minor": 4
}
