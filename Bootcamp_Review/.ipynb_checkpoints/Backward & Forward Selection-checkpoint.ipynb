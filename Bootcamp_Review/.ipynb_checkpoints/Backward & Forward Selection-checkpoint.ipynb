{
 "cells": [
  {
   "cell_type": "code",
   "execution_count": 1,
   "metadata": {
    "colab": {},
    "colab_type": "code",
    "id": "5QeqaKlZ3_9O"
   },
   "outputs": [],
   "source": [
    "import numpy as np\n",
    "\n",
    "class MultiClassLogisticRegressor:\n",
    "    \n",
    "    def fit(self, X, y, batch_size=64, lr=0.001, iter=1000, thres=0.000001, rand_seed=4): \n",
    "        np.random.seed(rand_seed) \n",
    "        self.classes = np.unique(y)\n",
    "        self.thres = thres\n",
    "        self.weights = self.get_randon_weights(len(self.classes), X.shape[1] + 1)\n",
    "        X_train = self.add_bias(X)\n",
    "        y_train = self.one_hot(y)\n",
    "        self.fit_data(X_train, y_train, batch_size, lr, iter)\n",
    " \n",
    "    def fit_data(self, X, y, batch_size, lr, iter): \n",
    "        while True: \n",
    "            idx = np.random.choice(X.shape[0], batch_size) \n",
    "            X_batch, y_batch = X[idx], y[idx]\n",
    "            error = y_batch - self.predict(X_batch, no_bias=False)\n",
    "            update = (lr * np.dot(error.T, X_batch))\n",
    "            self.weights += update\n",
    "            if np.abs(update).max() < self.thres: break\n",
    "    \n",
    "    def predict(self, X, no_bias=True):\n",
    "        X = self.add_bias(X) if no_bias else X\n",
    "        pre_vals = np.dot(X, self.weights.T).reshape(-1,len(self.classes))\n",
    "        return self.softmax(pre_vals)\n",
    "    \n",
    "    def softmax(self, z):\n",
    "        return np.exp(z) / np.sum(np.exp(z), axis=1).reshape(-1,1)\n",
    "\n",
    "    def predict_classes(self, X, no_bias=True):\n",
    "        self.probs_ = self.predict(X, no_bias)\n",
    "        return np.argmax(self.probs_, axis=1)\n",
    "  \n",
    "    def add_bias(self,X):\n",
    "        return np.insert(X, 0, np.ones(X.shape[0]), axis=1)\n",
    "  \n",
    "    def get_randon_weights(self, row, col):\n",
    "        return np.zeros(shape=(row,col))\n",
    "#         return np.random.random_sample(row * col).reshape(row,col)\n",
    "\n",
    "    def one_hot(self, y):\n",
    "        return np.eye(len(self.classes))[y.reshape(-1)]"
   ]
  },
  {
   "cell_type": "code",
   "execution_count": 2,
   "metadata": {},
   "outputs": [],
   "source": [
    "def forward_feature_selection(X, y, n_features=2):\n",
    "    results = {'best':[]}\n",
    "    count = 0\n",
    "    feature_list = []\n",
    "    while len(feature_list) < n_features:\n",
    "        results[count] = []\n",
    "        for i in range(len(X[0])):\n",
    "            if i not in feature_list: \n",
    "                train_model_save_result(X, y, feature_list + [i], results[count])\n",
    "        best_result = get_best_result(results[count])\n",
    "        feature_list = best_result['features']\n",
    "        results['best'].append(best_result)\n",
    "        count+= 1\n",
    "    compute_best_features(results, n_features)\n",
    "    return results\n",
    "\n",
    "def backward_feature_selection(X, y, n_features=2):\n",
    "    results = {'best':[]}\n",
    "    count = 0\n",
    "    feature_list = range(len(X[0]))\n",
    "    while len(feature_list) > 1:\n",
    "        results[count] = []\n",
    "        for i in range(len(feature_list)):\n",
    "            idx = feature_list[0:i] + feature_list[i+1:]\n",
    "            train_model_save_result(X, y, idx, results[count])\n",
    "        best_result = get_best_result(results[count])\n",
    "        feature_list = best_result['features']\n",
    "        results['best'].append(best_result)\n",
    "        count+= 1\n",
    "    compute_best_features(results, n_features)\n",
    "    return results\n",
    "\n",
    "def compute_best_features(results, n_features):\n",
    "    best_result = None\n",
    "    for result in results['best']:\n",
    "        if len(result['features']) <= n_features:\n",
    "            if not best_result: \n",
    "                best_result = result\n",
    "            elif best_result['score'] < result['score']: \n",
    "                best_result = result\n",
    "    results['best_features'] = best_result['features']\n",
    "    \n",
    "def train_model_save_result(X, y, idx, result_storage):\n",
    "    X_ = X[:, idx]\n",
    "    result = 0\n",
    "    model = MultiClassLogisticRegressor()\n",
    "    model.fit(X_, y, thres=1e-3)\n",
    "    acc = accuracy_score(y, model.predict_classes(X_))\n",
    "    result += acc\n",
    "    print({'features ': idx}, {'accuracy ' :acc})\n",
    "    result_storage.append({'score': result, 'features': idx})\n",
    "    \n",
    "def get_best_result(result_storage):\n",
    "    best = None\n",
    "    for model in result_storage:\n",
    "        if not best: best = model\n",
    "        elif model['score'] > best['score']:best = model\n",
    "    return best"
   ]
  },
  {
   "cell_type": "code",
   "execution_count": 13,
   "metadata": {},
   "outputs": [
    {
     "name": "stdout",
     "output_type": "stream",
     "text": [
      "({'features ': [1, 2, 3]}, {'accuracy ': 0.9666666666666667})\n",
      "({'features ': [0, 2, 3]}, {'accuracy ': 0.96})\n",
      "({'features ': [0, 1, 3]}, {'accuracy ': 0.9533333333333334})\n",
      "({'features ': [0, 1, 2]}, {'accuracy ': 0.9466666666666667})\n",
      "({'features ': [2, 3]}, {'accuracy ': 0.94})\n",
      "({'features ': [1, 3]}, {'accuracy ': 0.9466666666666667})\n",
      "({'features ': [1, 2]}, {'accuracy ': 0.9333333333333333})\n",
      "({'features ': [3]}, {'accuracy ': 0.96})\n",
      "({'features ': [1]}, {'accuracy ': 0.5533333333333333})\n"
     ]
    },
    {
     "data": {
      "text/plain": [
       "{0: [{'features': [1, 2, 3], 'score': 0.9666666666666667},\n",
       "  {'features': [0, 2, 3], 'score': 0.96},\n",
       "  {'features': [0, 1, 3], 'score': 0.9533333333333334},\n",
       "  {'features': [0, 1, 2], 'score': 0.9466666666666667}],\n",
       " 1: [{'features': [2, 3], 'score': 0.94},\n",
       "  {'features': [1, 3], 'score': 0.9466666666666667},\n",
       "  {'features': [1, 2], 'score': 0.9333333333333333}],\n",
       " 2: [{'features': [3], 'score': 0.96},\n",
       "  {'features': [1], 'score': 0.5533333333333333}],\n",
       " 'best': [{'features': [1, 2, 3], 'score': 0.9666666666666667},\n",
       "  {'features': [1, 3], 'score': 0.9466666666666667},\n",
       "  {'features': [3], 'score': 0.96}],\n",
       " 'best_features': [3]}"
      ]
     },
     "execution_count": 13,
     "metadata": {},
     "output_type": "execute_result"
    }
   ],
   "source": [
    "from sklearn.metrics import accuracy_score\n",
    "from sklearn.model_selection import KFold\n",
    "from sklearn import datasets\n",
    "iris = datasets.load_iris()\n",
    "X = iris.data  # we only take the first two features.\n",
    "Y = iris.target\n",
    "backward_feature_selection(X, Y)"
   ]
  },
  {
   "cell_type": "code",
   "execution_count": 425,
   "metadata": {},
   "outputs": [
    {
     "data": {
      "text/plain": [
       "0.96"
      ]
     },
     "execution_count": 425,
     "metadata": {},
     "output_type": "execute_result"
    }
   ],
   "source": [
    "model = MultiClassLogisticRegressor()\n",
    "model.fit(X[:,[3]], Y, thres=1e-3)\n",
    "accuracy_score(Y, model.predict_classes(X[:,[3]]))"
   ]
  }
 ],
 "metadata": {
  "colab": {
   "name": "Algorithm and Data Structure.ipynb",
   "provenance": []
  },
  "kernelspec": {
   "display_name": "Python 3",
   "language": "python",
   "name": "python3"
  },
  "language_info": {
   "codemirror_mode": {
    "name": "ipython",
    "version": 3
   },
   "file_extension": ".py",
   "mimetype": "text/x-python",
   "name": "python",
   "nbconvert_exporter": "python",
   "pygments_lexer": "ipython3",
   "version": "3.7.3"
  }
 },
 "nbformat": 4,
 "nbformat_minor": 4
}
