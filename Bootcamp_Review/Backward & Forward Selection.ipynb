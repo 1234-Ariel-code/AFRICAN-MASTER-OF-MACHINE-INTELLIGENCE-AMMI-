{
 "cells": [
  {
   "cell_type": "code",
   "execution_count": 1,
   "metadata": {
    "colab": {},
    "colab_type": "code",
    "id": "5QeqaKlZ3_9O"
   },
   "outputs": [],
   "source": [
    "import numpy as np\n",
    "\n",
    "class MultiClassLogisticRegressor:\n",
    "    \n",
    "    def fit(self, X, y, batch_size=64, lr=0.001, iter=1000, thres=0.000001, rand_seed=4): \n",
    "        np.random.seed(rand_seed) \n",
    "        self.classes = np.unique(y)\n",
    "        self.thres = thres\n",
    "        self.weights = self.get_randon_weights(len(self.classes), X.shape[1] + 1)\n",
    "        X_train = self.add_bias(X)\n",
    "        y_train = self.one_hot(y)\n",
    "        self.fit_data(X_train, y_train, batch_size, lr, iter)\n",
    " \n",
    "    def fit_data(self, X, y, batch_size, lr, iter): \n",
    "        while True: \n",
    "            idx = np.random.choice(X.shape[0], batch_size) \n",
    "            X_batch, y_batch = X[idx], y[idx]\n",
    "            error = y_batch - self.predict(X_batch, no_bias=False)\n",
    "            update = (lr * np.dot(error.T, X_batch))\n",
    "            self.weights += update\n",
    "            if np.abs(update).max() < self.thres: break\n",
    "    \n",
    "    def predict(self, X, no_bias=True):\n",
    "        X = self.add_bias(X) if no_bias else X\n",
    "        pre_vals = np.dot(X, self.weights.T).reshape(-1,len(self.classes))\n",
    "        return self.softmax(pre_vals)\n",
    "    \n",
    "    def softmax(self, z):\n",
    "        return np.exp(z) / np.sum(np.exp(z), axis=1).reshape(-1,1)\n",
    "\n",
    "    def predict_classes(self, X, no_bias=True):\n",
    "        self.probs_ = self.predict(X, no_bias)\n",
    "        return np.argmax(self.probs_, axis=1)\n",
    "  \n",
    "    def add_bias(self,X):\n",
    "        return np.insert(X, 0, np.ones(X.shape[0]), axis=1)\n",
    "  \n",
    "    def get_randon_weights(self, row, col):\n",
    "        return np.zeros(shape=(row,col))\n",
    "#         return np.random.random_sample(row * col).reshape(row,col)\n",
    "\n",
    "    def one_hot(self, y):\n",
    "        return np.eye(len(self.classes))[y.reshape(-1)]"
   ]
  },
  {
   "cell_type": "code",
   "execution_count": 2,
   "metadata": {},
   "outputs": [],
   "source": [
    "def forward_feature_selection(X, y, n_features=2):\n",
    "    results = {'best':[]}\n",
    "    count = 0\n",
    "    feature_list = []\n",
    "    while len(feature_list) < n_features:\n",
    "        results[count] = []\n",
    "        for i in range(len(X[0])):\n",
    "            if i not in feature_list: \n",
    "                train_model_save_result(X, y, feature_list + [i], results[count])\n",
    "        best_result = get_best_result(results[count])\n",
    "        feature_list = best_result['features']\n",
    "        results['best'].append(best_result)\n",
    "        count+= 1\n",
    "    compute_best_features(results, n_features)\n",
    "    return results\n",
    "\n",
    "def backward_feature_selection(X, y, n_features=2):\n",
    "    results = {'best':[]}\n",
    "    count = 0\n",
    "    feature_list = range(len(X[0]))\n",
    "    while len(feature_list) > 1:\n",
    "        results[count] = []\n",
    "        for i in range(len(feature_list)):\n",
    "            idx = feature_list[0:i] + feature_list[i+1:]\n",
    "            train_model_save_result(X, y, idx, results[count])\n",
    "        best_result = get_best_result(results[count])\n",
    "        feature_list = best_result['features']\n",
    "        results['best'].append(best_result)\n",
    "        count+= 1\n",
    "    compute_best_features(results, n_features)\n",
    "    return results\n",
    "\n",
    "def compute_best_features(results, n_features):\n",
    "    best_result = None\n",
    "    for result in results['best']:\n",
    "        if len(result['features']) <= n_features:\n",
    "            if not best_result: \n",
    "                best_result = result\n",
    "            elif best_result['score'] < result['score']: \n",
    "                best_result = result\n",
    "    results['best_features'] = best_result['features']\n",
    "    \n",
    "def train_model_save_result(X, y, idx, result_storage):\n",
    "    X_ = X[:, idx]\n",
    "    result = 0\n",
    "    model = MultiClassLogisticRegressor()\n",
    "    model.fit(X_, y, thres=1e-3)\n",
    "    acc = accuracy_score(y, model.predict_classes(X_))\n",
    "    result += acc\n",
    "    print({'features ': idx}, {'accuracy ' :acc})\n",
    "    result_storage.append({'score': result, 'features': idx})\n",
    "    \n",
    "def get_best_result(result_storage):\n",
    "    best = None\n",
    "    for model in result_storage:\n",
    "        if not best: best = model\n",
    "        elif model['score'] > best['score']:best = model\n",
    "    return best"
   ]
  },
  {
   "cell_type": "code",
   "execution_count": 4,
   "metadata": {},
   "outputs": [
    {
     "ename": "TypeError",
     "evalue": "unsupported operand type(s) for +: 'range' and 'range'",
     "output_type": "error",
     "traceback": [
      "\u001b[0;31m---------------------------------------------------------------------------\u001b[0m",
      "\u001b[0;31mTypeError\u001b[0m                                 Traceback (most recent call last)",
      "\u001b[0;32m<ipython-input-4-66962a4d660f>\u001b[0m in \u001b[0;36m<module>\u001b[0;34m()\u001b[0m\n\u001b[1;32m      5\u001b[0m \u001b[0mX\u001b[0m \u001b[0;34m=\u001b[0m \u001b[0miris\u001b[0m\u001b[0;34m.\u001b[0m\u001b[0mdata\u001b[0m  \u001b[0;31m# we only take the first two features.\u001b[0m\u001b[0;34m\u001b[0m\u001b[0;34m\u001b[0m\u001b[0m\n\u001b[1;32m      6\u001b[0m \u001b[0mY\u001b[0m \u001b[0;34m=\u001b[0m \u001b[0miris\u001b[0m\u001b[0;34m.\u001b[0m\u001b[0mtarget\u001b[0m\u001b[0;34m\u001b[0m\u001b[0;34m\u001b[0m\u001b[0m\n\u001b[0;32m----> 7\u001b[0;31m \u001b[0mbackward_feature_selection\u001b[0m\u001b[0;34m(\u001b[0m\u001b[0mX\u001b[0m\u001b[0;34m,\u001b[0m \u001b[0mY\u001b[0m\u001b[0;34m)\u001b[0m\u001b[0;34m\u001b[0m\u001b[0;34m\u001b[0m\u001b[0m\n\u001b[0m",
      "\u001b[0;32m<ipython-input-2-25d372c3f26f>\u001b[0m in \u001b[0;36mbackward_feature_selection\u001b[0;34m(X, y, n_features)\u001b[0m\n\u001b[1;32m     22\u001b[0m         \u001b[0mresults\u001b[0m\u001b[0;34m[\u001b[0m\u001b[0mcount\u001b[0m\u001b[0;34m]\u001b[0m \u001b[0;34m=\u001b[0m \u001b[0;34m[\u001b[0m\u001b[0;34m]\u001b[0m\u001b[0;34m\u001b[0m\u001b[0;34m\u001b[0m\u001b[0m\n\u001b[1;32m     23\u001b[0m         \u001b[0;32mfor\u001b[0m \u001b[0mi\u001b[0m \u001b[0;32min\u001b[0m \u001b[0mrange\u001b[0m\u001b[0;34m(\u001b[0m\u001b[0mlen\u001b[0m\u001b[0;34m(\u001b[0m\u001b[0mfeature_list\u001b[0m\u001b[0;34m)\u001b[0m\u001b[0;34m)\u001b[0m\u001b[0;34m:\u001b[0m\u001b[0;34m\u001b[0m\u001b[0;34m\u001b[0m\u001b[0m\n\u001b[0;32m---> 24\u001b[0;31m             \u001b[0midx\u001b[0m \u001b[0;34m=\u001b[0m \u001b[0mfeature_list\u001b[0m\u001b[0;34m[\u001b[0m\u001b[0;36m0\u001b[0m\u001b[0;34m:\u001b[0m\u001b[0mi\u001b[0m\u001b[0;34m]\u001b[0m \u001b[0;34m+\u001b[0m \u001b[0mfeature_list\u001b[0m\u001b[0;34m[\u001b[0m\u001b[0mi\u001b[0m\u001b[0;34m+\u001b[0m\u001b[0;36m1\u001b[0m\u001b[0;34m:\u001b[0m\u001b[0;34m]\u001b[0m\u001b[0;34m\u001b[0m\u001b[0;34m\u001b[0m\u001b[0m\n\u001b[0m\u001b[1;32m     25\u001b[0m             \u001b[0mtrain_model_save_result\u001b[0m\u001b[0;34m(\u001b[0m\u001b[0mX\u001b[0m\u001b[0;34m,\u001b[0m \u001b[0my\u001b[0m\u001b[0;34m,\u001b[0m \u001b[0midx\u001b[0m\u001b[0;34m,\u001b[0m \u001b[0mresults\u001b[0m\u001b[0;34m[\u001b[0m\u001b[0mcount\u001b[0m\u001b[0;34m]\u001b[0m\u001b[0;34m)\u001b[0m\u001b[0;34m\u001b[0m\u001b[0;34m\u001b[0m\u001b[0m\n\u001b[1;32m     26\u001b[0m         \u001b[0mbest_result\u001b[0m \u001b[0;34m=\u001b[0m \u001b[0mget_best_result\u001b[0m\u001b[0;34m(\u001b[0m\u001b[0mresults\u001b[0m\u001b[0;34m[\u001b[0m\u001b[0mcount\u001b[0m\u001b[0;34m]\u001b[0m\u001b[0;34m)\u001b[0m\u001b[0;34m\u001b[0m\u001b[0;34m\u001b[0m\u001b[0m\n",
      "\u001b[0;31mTypeError\u001b[0m: unsupported operand type(s) for +: 'range' and 'range'"
     ]
    }
   ],
   "source": [
    "from sklearn.metrics import accuracy_score\n",
    "from sklearn.model_selection import KFold\n",
    "from sklearn import datasets\n",
    "iris = datasets.load_iris()\n",
    "X = iris.data  # we only take the first two features.\n",
    "Y = iris.target\n",
    "backward_feature_selection(X, Y)"
   ]
  },
  {
   "cell_type": "code",
   "execution_count": 425,
   "metadata": {},
   "outputs": [
    {
     "data": {
      "text/plain": [
       "0.96"
      ]
     },
     "execution_count": 425,
     "metadata": {},
     "output_type": "execute_result"
    }
   ],
   "source": [
    "model = MultiClassLogisticRegressor()\n",
    "model.fit(X[:,[3]], Y, thres=1e-3)\n",
    "accuracy_score(Y, model.predict_classes(X[:,[3]]))"
   ]
  }
 ],
 "metadata": {
  "colab": {
   "name": "Algorithm and Data Structure.ipynb",
   "provenance": []
  },
  "kernelspec": {
   "display_name": "Python 3",
   "language": "python",
   "name": "python3"
  },
  "language_info": {
   "codemirror_mode": {
    "name": "ipython",
    "version": 3
   },
   "file_extension": ".py",
   "mimetype": "text/x-python",
   "name": "python",
   "nbconvert_exporter": "python",
   "pygments_lexer": "ipython3",
   "version": "3.7.3"
  }
 },
 "nbformat": 4,
 "nbformat_minor": 4
}
