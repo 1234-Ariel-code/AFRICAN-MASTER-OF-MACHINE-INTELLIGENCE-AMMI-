{
 "cells": [
  {
   "cell_type": "markdown",
   "metadata": {},
   "source": [
    "### Survey Questions for python tutorial\n",
    "\n",
    "#### You are not expected to consult any resources for this, except python syntax. This is just to access the area to focus for tutorial"
   ]
  },
  {
   "cell_type": "markdown",
   "metadata": {},
   "source": [
    "1.\n",
    "We'll pass you an array of two numbers. Return the sum of those two numbers plus the sum of all the numbers between them. The lowest number will not always come first.\n",
    "\n",
    "For example, sumAll([4,1]) should return 10 because sum of all the numbers between 1 and 4 (both inclusive) is 10."
   ]
  },
  {
   "cell_type": "code",
   "execution_count": 2,
   "metadata": {},
   "outputs": [],
   "source": [
    "sumAll = lambda x : sum(range(min(x), max(x)+1))"
   ]
  },
  {
   "cell_type": "code",
   "execution_count": 3,
   "metadata": {},
   "outputs": [
    {
     "data": {
      "text/plain": [
       "45"
      ]
     },
     "execution_count": 3,
     "metadata": {},
     "output_type": "execute_result"
    }
   ],
   "source": [
    "sumAll([5,10])"
   ]
  },
  {
   "cell_type": "code",
   "execution_count": 1,
   "metadata": {},
   "outputs": [
    {
     "data": {
      "text/plain": [
       "45"
      ]
     },
     "execution_count": 1,
     "metadata": {},
     "output_type": "execute_result"
    }
   ],
   "source": [
    "def sumAll(arr):\n",
    "    L=[]\n",
    "    n=min(arr)\n",
    "    m=max(arr)\n",
    "    for i in range(n,m+1):\n",
    "        L.append(i)\n",
    "      \n",
    "    return sum(L)\n",
    "\n",
    "sumAll([1, 4])\n",
    "sumAll([4, 1])\n",
    "sumAll([5, 10])\n"
   ]
  },
  {
   "cell_type": "markdown",
   "metadata": {},
   "source": [
    "2.\n",
    "Compare two arrays and return a new array with any items only found in one of the two given arrays, but not both. In other words, return the symmetric difference of the two arrays."
   ]
  },
  {
   "cell_type": "code",
   "execution_count": 8,
   "metadata": {},
   "outputs": [
    {
     "name": "stdout",
     "output_type": "stream",
     "text": [
      "[4]\n",
      "(['pink wool'], ' === ', '[\"pink wool\"]')\n",
      "(['piglet', 4], ' == ', '[\"piglet\", 4]')\n"
     ]
    }
   ],
   "source": [
    "def diffArray(arr1, arr2):\n",
    "    return [i for i in (arr1 + arr2) if (i not in arr2) or (i not in arr1)] \n",
    "\n",
    "\n",
    "print(diffArray([1, 2, 3, 5], [1, 2, 3, 4, 5]))\n",
    "print(diffArray([\"diorite\", \"andesite\", \"grass\", \"dirt\", \"pink wool\", \"dead shrub\"], \n",
    "          [\"diorite\", \"andesite\", \"grass\", \"dirt\", \"dead shrub\"]), ' === ',  '[\"pink wool\"]')\n",
    "print(diffArray([1, \"calf\", 3, \"piglet\"], [1, \"calf\", 3, 4]), ' == ', '[\"piglet\", 4]')"
   ]
  },
  {
   "cell_type": "markdown",
   "metadata": {},
   "source": [
    "3.\n",
    "You will be provided with an initial array (the first argument in the destroyer function), followed by one or more arguments. Remove all elements from the initial array that are of the same value as these arguments."
   ]
  },
  {
   "cell_type": "code",
   "execution_count": 21,
   "metadata": {},
   "outputs": [
    {
     "data": {
      "text/plain": [
       "[1, 1]"
      ]
     },
     "execution_count": 21,
     "metadata": {},
     "output_type": "execute_result"
    }
   ],
   "source": [
    "def destroyer(arr, *arg):\n",
    "    return [i for i in arr if i not in arg]\n",
    "\n",
    "\n",
    "destroyer([1, 2, 3, 1, 2, 3], 2, 3, 4, 5) #should return [1, 1].\n",
    "# destroyer([1, 2, 3, 5, 1, 2, 3], 2, 3) #should return [1, 5, 1].\n",
    "# destroyer([3, 5, 1, 2, 2], 2, 3, 5) #should return [1].\n",
    "# destroyer([2, 3, 2, 3], 2, 3) #should return [].\n",
    "# destroyer([\"tree\", \"hamburger\", 53], \"tree\", 53) #should return [\"hamburger\"]."
   ]
  },
  {
   "cell_type": "code",
   "execution_count": null,
   "metadata": {},
   "outputs": [],
   "source": []
  },
  {
   "cell_type": "markdown",
   "metadata": {},
   "source": [
    "4.You will be provided with a list of characters, create a function that return a reverse of that list"
   ]
  },
  {
   "cell_type": "code",
   "execution_count": null,
   "metadata": {},
   "outputs": [],
   "source": [
    "def reverse(self, chars):\n",
    "    # TODO: Implement me\n",
    "    pass\n",
    "\n",
    "reverse(['f', 'o', 'o', ' ', 'b', 'a', 'r']) # should return ['r', 'a', 'b', ' ', 'o', 'o', 'f']\n",
    "reverse(['e', 'x', 'a', 'm', 'p', 'l', 'e']) # should return ['e', 'l', 'p', 'm', 'a', 'x', 'e']"
   ]
  },
  {
   "cell_type": "code",
   "execution_count": null,
   "metadata": {},
   "outputs": [],
   "source": []
  },
  {
   "cell_type": "markdown",
   "metadata": {},
   "source": [
    "5.Given a magazine, see if a ransom note could have been written using the letters in the magazine."
   ]
  },
  {
   "cell_type": "code",
   "execution_count": null,
   "metadata": {},
   "outputs": [],
   "source": [
    "def match_note_to_magazine(self, ransom_note, magazine):\n",
    "    # TODO: Implement me\n",
    "    pass\n",
    "\n",
    "match_note_to_magazine('aa', 'aab') # should return true\n",
    "match_note_to_magazine('cc', 'bgghh') # should return true"
   ]
  },
  {
   "cell_type": "markdown",
   "metadata": {},
   "source": [
    "6. Define a python class that describe various attributes and methods or actions for a car"
   ]
  },
  {
   "cell_type": "code",
   "execution_count": 18,
   "metadata": {},
   "outputs": [
    {
     "name": "stdout",
     "output_type": "stream",
     "text": [
      "moving my Ho\n"
     ]
    }
   ],
   "source": [
    "class Car:\n",
    "    def __init__(self, brand, name, engine, year):\n",
    "        self.brand = brand\n",
    "        self.name = name\n",
    "        self.engine = engine\n",
    "        self.year = year\n",
    "        \n",
    "    def move(self):\n",
    "        print('moving my {}'.format(self.name))\n",
    "    \n",
    "car = Car('BMW', 'Ho', '409', 2019)\n",
    "car.move()"
   ]
  },
  {
   "cell_type": "markdown",
   "metadata": {},
   "source": [
    "7. Define a python class that take two parameters name and the year someone was born. add a method or action to that class that print the age of that person from today's date"
   ]
  },
  {
   "cell_type": "code",
   "execution_count": null,
   "metadata": {},
   "outputs": [],
   "source": [
    "class Person:\n",
    "    # Implement me\n",
    "    pass"
   ]
  },
  {
   "cell_type": "markdown",
   "metadata": {},
   "source": [
    "Please comment on all the areas that you feel you are strugling with in python"
   ]
  },
  {
   "cell_type": "code",
   "execution_count": 27,
   "metadata": {},
   "outputs": [],
   "source": [
    "class Node:\n",
    "    def __init__(self, value, next=None):\n",
    "        self.value = value\n",
    "        self.next = next\n",
    "        \n",
    "class LinkedList:\n",
    "    \n",
    "    def __init__(self, head=None):\n",
    "        self.head = head\n",
    "        \n",
    "    def append(self, new_element):\n",
    "        current = self.head\n",
    "        if self.head:\n",
    "            while current.next:\n",
    "                current = current.next\n",
    "            current.next = new_element\n",
    "        else:\n",
    "            self.head = new_element\n",
    "        \n",
    "    def insert(self, new_node, position):\n",
    "        if position == 1:\n",
    "            if self.head != None:\n",
    "                new_node.next = self.head\n",
    "            self.head = new_node\n",
    "        else:\n",
    "            prev_node = self.get_position(position - 1)\n",
    "            new_node.next = prev_node.next\n",
    "            prev_node.next = new_node\n",
    "    \n",
    "    def get_position(self, position):\n",
    "        pos_count = 1\n",
    "        cur_node = self.head\n",
    "        while (pos_count < position and cur_node != None):\n",
    "            cur_node = cur_node.next # head.next # head.next.next \n",
    "            pos_count +=1 # 2 # 3\n",
    "        return cur_node \n",
    "    \n",
    "    def delete(self, value):\n",
    "        \"\"\"Delete the first node with a given value.\"\"\"\n",
    "        if self.head == None:  return # just return if the list is empty\n",
    "    \n",
    "        if self.head.value == value: # handle situation for deleting head\n",
    "            self.head = self.head.next\n",
    "            \n",
    "        cur_node = self.head # your head is not None, let start from the head\n",
    "        \n",
    "        while (cur_node.next != None and cur_node.next.value != value): # loop until when the next value is None or the next\n",
    "            cur_node = cur_node.next                                    # has a value you are searching for\n",
    "            \n",
    "        if cur_node.next != None and cur_node.next.value == value: # check if you have found the value \n",
    "            # swap position to remove the node remember cur => next (node to delete) => others\n",
    "            temp = cur_node.next \n",
    "            cur_node.next  = temp.next\n",
    "            temp.next = None\n",
    "        "
   ]
  },
  {
   "cell_type": "code",
   "execution_count": 29,
   "metadata": {},
   "outputs": [
    {
     "name": "stdout",
     "output_type": "stream",
     "text": [
      "3\n",
      "3\n",
      "4\n",
      "2\n",
      "4\n",
      "3\n"
     ]
    }
   ],
   "source": [
    "# Test cases\n",
    "# Set up some Elements\n",
    "e1 = Node(1)\n",
    "e2 = Node(2)\n",
    "e3 = Node(3)\n",
    "e4 = Node(4)\n",
    "\n",
    "# Start setting up a LinkedList\n",
    "ll = LinkedList(e1)\n",
    "ll.append(e2)\n",
    "ll.append(e3)\n",
    "\n",
    "# Test get_position\n",
    "# Should print 3\n",
    "print (ll.head.next.next.value)\n",
    "# Should also print 3\n",
    "print (ll.get_position(3).value)\n",
    "\n",
    "# Test insert\n",
    "ll.insert(e4,3)\n",
    "# Should print 4 now\n",
    "print( ll.get_position(3).value)\n",
    "\n",
    "# Test delete\n",
    "ll.delete(1)\n",
    "# Should print 2 now\n",
    "print (ll.get_position(1).value)\n",
    "# Should print 4 now\n",
    "print (ll.get_position(2).value)\n",
    "# Should print 3 now\n",
    "print (ll.get_position(3).value)"
   ]
  },
  {
   "cell_type": "code",
   "execution_count": null,
   "metadata": {},
   "outputs": [],
   "source": []
  }
 ],
 "metadata": {
  "kernelspec": {
   "display_name": "python3",
   "language": "python",
   "name": "python3"
  },
  "language_info": {
   "codemirror_mode": {
    "name": "ipython",
    "version": 2
   },
   "file_extension": ".py",
   "mimetype": "text/x-python",
   "name": "python",
   "nbconvert_exporter": "python",
   "pygments_lexer": "ipython2",
   "version": "2.7.16"
  }
 },
 "nbformat": 4,
 "nbformat_minor": 4
}
