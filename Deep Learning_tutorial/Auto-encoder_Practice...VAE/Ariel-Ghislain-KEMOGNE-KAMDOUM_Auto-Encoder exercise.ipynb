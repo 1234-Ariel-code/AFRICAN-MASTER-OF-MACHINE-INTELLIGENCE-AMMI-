{
 "cells": [
  {
   "cell_type": "code",
   "execution_count": 1,
   "metadata": {},
   "outputs": [],
   "source": [
    "import torch\n",
    "import torchvision\n",
    "from torch import nn\n",
    "from torch.utils.data import DataLoader\n",
    "from torchvision import transforms\n",
    "from torchvision.datasets import FashionMNIST\n",
    "from matplotlib import pyplot as plt"
   ]
  },
  {
   "cell_type": "code",
   "execution_count": 2,
   "metadata": {},
   "outputs": [],
   "source": [
    "# Convert vector to image\n",
    "def to_img(x):\n",
    "    x = 0.5 * (x + 1)\n",
    "    x = x.view(x.size(0), 28, 28)\n",
    "    return x"
   ]
  },
  {
   "cell_type": "code",
   "execution_count": 3,
   "metadata": {},
   "outputs": [
    {
     "name": "stdout",
     "output_type": "stream",
     "text": [
      "Downloading http://fashion-mnist.s3-website.eu-central-1.amazonaws.com/train-images-idx3-ubyte.gz to ./data/FashionMNIST/raw/train-images-idx3-ubyte.gz\n"
     ]
    },
    {
     "data": {
      "application/vnd.jupyter.widget-view+json": {
       "model_id": "4cd58e4d0ba240dca78ac3612baf176d"
      }
     },
     "metadata": {},
     "output_type": "display_data"
    },
    {
     "name": "stdout",
     "output_type": "stream",
     "text": [
      "Extracting ./data/FashionMNIST/raw/train-images-idx3-ubyte.gz to ./data/FashionMNIST/raw\n",
      "Downloading http://fashion-mnist.s3-website.eu-central-1.amazonaws.com/train-labels-idx1-ubyte.gz to ./data/FashionMNIST/raw/train-labels-idx1-ubyte.gz\n"
     ]
    },
    {
     "data": {
      "application/vnd.jupyter.widget-view+json": {
       "model_id": "5d14caee308143208803f56fb061ff0c"
      }
     },
     "metadata": {},
     "output_type": "display_data"
    },
    {
     "name": "stdout",
     "output_type": "stream",
     "text": [
      "Extracting ./data/FashionMNIST/raw/train-labels-idx1-ubyte.gz to ./data/FashionMNIST/raw\n",
      "Downloading http://fashion-mnist.s3-website.eu-central-1.amazonaws.com/t10k-images-idx3-ubyte.gz to ./data/FashionMNIST/raw/t10k-images-idx3-ubyte.gz\n"
     ]
    },
    {
     "data": {
      "application/vnd.jupyter.widget-view+json": {
       "model_id": "13442cc3cb934a70be4fb4915db77444"
      }
     },
     "metadata": {},
     "output_type": "display_data"
    },
    {
     "name": "stdout",
     "output_type": "stream",
     "text": [
      "Extracting ./data/FashionMNIST/raw/t10k-images-idx3-ubyte.gz to ./data/FashionMNIST/raw\n",
      "Downloading http://fashion-mnist.s3-website.eu-central-1.amazonaws.com/t10k-labels-idx1-ubyte.gz to ./data/FashionMNIST/raw/t10k-labels-idx1-ubyte.gz\n"
     ]
    },
    {
     "data": {
      "application/vnd.jupyter.widget-view+json": {
       "model_id": "4d84fe286812414cac27e835af8681ad"
      }
     },
     "metadata": {},
     "output_type": "display_data"
    },
    {
     "name": "stdout",
     "output_type": "stream",
     "text": [
      "Extracting ./data/FashionMNIST/raw/t10k-labels-idx1-ubyte.gz to ./data/FashionMNIST/raw\n",
      "Processing...\n",
      "\n",
      "\n",
      "\n",
      "Done!\n"
     ]
    }
   ],
   "source": [
    "bs = 1000\n",
    "\n",
    "transform = transforms.Compose([transforms.ToTensor()])\n",
    "\n",
    "traindataset = FashionMNIST('./data', download=True, train=True, transform=transform)\n",
    "testdataset = FashionMNIST('./data', download=True, train=False, transform=transform)\n",
    "\n",
    "# Loaders\n",
    "trainloader = torch.utils.data.DataLoader(traindataset, batch_size=bs, shuffle=True, num_workers=4)\n",
    "testloader = torch.utils.data.DataLoader(testdataset, batch_size=bs, shuffle=False, num_workers=4)"
   ]
  },
  {
   "cell_type": "code",
   "execution_count": 14,
   "metadata": {},
   "outputs": [],
   "source": [
    "# Displaying routine\n",
    "def display_images(in_, out, n=1):\n",
    "    for N in range(n):\n",
    "        if in_ is not None:\n",
    "            in_pic = to_img(in_.cpu().data)\n",
    "            plt.figure(figsize=(18, 6))\n",
    "            for i in range(4):\n",
    "                plt.subplot(1,4,i+1)\n",
    "                plt.imshow(in_pic[i+4*N])\n",
    "                plt.axis('off')\n",
    "        out_pic = to_img(out.cpu().data)\n",
    "        plt.figure(figsize=(18, 6))\n",
    "        for i in range(4):\n",
    "            plt.subplot(1,4,i+1)\n",
    "            plt.imshow(out_pic[i+4*N])\n",
    "            plt.axis('off')"
   ]
  },
  {
   "cell_type": "code",
   "execution_count": 8,
   "metadata": {},
   "outputs": [],
   "source": [
    "class AutoEncoder(nn.Module):\n",
    "    def __init__(self):\n",
    "        super(AutoEncoder, self).__init__()\n",
    "        self.encoder = nn.Sequential(\n",
    "        nn.Linear(28*28, 100),\n",
    "        nn.ReLU())\n",
    "        \n",
    "        self.decoder = nn.Sequential(\n",
    "        nn.Linear(100, 28*28),\n",
    "        nn.ReLU())\n",
    "        \n",
    "    def forward(self, x):\n",
    "        x = self.encoder(x)\n",
    "        x = self.decoder(x)\n",
    "        return x"
   ]
  },
  {
   "cell_type": "code",
   "execution_count": 9,
   "metadata": {},
   "outputs": [],
   "source": [
    "### AutoEncoder with CNN \n",
    "\n",
    "class AutoEncoder_CNN(nn.Module):\n",
    "    def __init__(self):\n",
    "        super(AutoEncoder_CNN, self).__init__()\n",
    "        self.encoder = nn.Sequential(\n",
    "            nn.Conv2d(1,3,kernel_size=5),\n",
    "            nn.ReLU(),\n",
    "            nn.Conv2d(3,4,kernel_size=5),\n",
    "            nn.ReLU()\n",
    "        )\n",
    "        \n",
    "        self.decoder = nn.Sequential(\n",
    "            nn.ConvTranspose2d(4,3,kernel_size=5),\n",
    "            nn.ConvTranspose2d(3,1,kernel_size=5)\n",
    "        )\n",
    "        \n",
    "    def forward(self, x):\n",
    "        x = self.encoder(x)\n",
    "        x = self.decoder(x)\n",
    "        return x"
   ]
  },
  {
   "cell_type": "code",
   "execution_count": 10,
   "metadata": {},
   "outputs": [],
   "source": [
    "model_ae = AutoEncoder_CNN()"
   ]
  },
  {
   "cell_type": "code",
   "execution_count": 11,
   "metadata": {},
   "outputs": [],
   "source": [
    "# Configure the optimiszer and criterion\n",
    "learning_rate = 1e-3\n",
    "\n",
    "optimizer = torch.optim.Adam(model_ae.parameters(), lr=learning_rate)\n",
    "criterion = nn.MSELoss()"
   ]
  },
  {
   "cell_type": "code",
   "execution_count": 21,
   "metadata": {},
   "outputs": [
    {
     "name": "stdout",
     "output_type": "stream",
     "text": [
      "epoch [1/5], loss:0.0187\n",
      "epoch [2/5], loss:0.0178\n",
      "epoch [3/5], loss:0.0172\n",
      "epoch [4/5], loss:0.0168\n",
      "epoch [5/5], loss:0.0166\n"
     ]
    },
    {
     "data": {
      "image/png": "[encoded data removed]",
      "text/plain": [
       "<Figure size 1296x432 with 4 Axes>"
      ]
     },
     "metadata": {
      "needs_background": "light"
     },
     "output_type": "display_data"
    },
    {
     "data": {
      "image/png": "[encoded data removed]",
      "text/plain": [
       "<Figure size 1296x432 with 4 Axes>"
      ]
     },
     "metadata": {
      "needs_background": "light"
     },
     "output_type": "display_data"
    },
    {
     "data": {
      "image/png": "[encoded data removed]",
      "text/plain": [
       "<Figure size 1296x432 with 4 Axes>"
      ]
     },
     "metadata": {
      "needs_background": "light"
     },
     "output_type": "display_data"
    },
    {
     "data": {
      "image/png": "[encoded data removed]",
      "text/plain": [
       "<Figure size 1296x432 with 4 Axes>"
      ]
     },
     "metadata": {
      "needs_background": "light"
     },
     "output_type": "display_data"
    },
    {
     "data": {
      "image/png": "[encoded data removed]",
      "text/plain": [
       "<Figure size 1296x432 with 4 Axes>"
      ]
     },
     "metadata": {
      "needs_background": "light"
     },
     "output_type": "display_data"
    }
   ],
   "source": [
    "num_epochs = 5\n",
    "denoising_factor=0.01\n",
    "\n",
    "for epoch in range(num_epochs):\n",
    "    for data in trainloader:\n",
    "        img, _ = data\n",
    "        \n",
    "        ### Introducing noise\n",
    "        \n",
    "        img=img+denoising_factor*torch.randn(img.size())\n",
    "        \n",
    "        img.requires_grad_()\n",
    "        #img = img.view(img.size(0), -1)\n",
    "        output = model_ae(img)  \n",
    "        loss = criterion(output, img.data)\n",
    "        optimizer.zero_grad()\n",
    "        loss.backward()\n",
    "        optimizer.step()\n",
    "    # ===================log========================\n",
    "    print(f'epoch [{epoch + 1}/{num_epochs}], loss:{loss.item():.4f}')\n",
    "    display_images(None, output)"
   ]
  },
  {
   "cell_type": "code",
   "execution_count": 22,
   "metadata": {},
   "outputs": [],
   "source": [
    "from torch.autograd import Variable\n",
    "plt.style.use('default')\n",
    "%matplotlib inline "
   ]
  },
  {
   "cell_type": "code",
   "execution_count": 26,
   "metadata": {},
   "outputs": [
    {
     "data": {
      "image/png": "[encoded data removed]",
      "text/plain": [
       "<Figure size 432x288 with 2 Axes>"
      ]
     },
     "metadata": {
      "needs_background": "light"
     },
     "output_type": "display_data"
    }
   ],
   "source": [
    "test_images, labels = next(iter(testloader))\n",
    "\n",
    "#test_images = Variable(test_images.view(test_images.size()[0], -1))\n",
    "test_output = model_ae(test_images)\n",
    "  \n",
    "inp = test_images.view(-1, 28, 28)\n",
    "out = test_output.view(-1, 28, 28)\n",
    "\n",
    "fig = plt.figure()\n",
    "plot = fig.add_subplot(1, 2, 1)\n",
    "plot.set_title('Original Image')\n",
    "imgplot = plt.imshow(inp[0].cpu(), cmap='gray')\n",
    "\n",
    "plot = fig.add_subplot(1, 2, 2)\n",
    "plot.set_title('Generated Image')\n",
    "imgplot = plt.imshow(out[0].cpu().detach(), cmap='gray')\n",
    "plt.show()"
   ]
  },
  {
   "cell_type": "markdown",
   "metadata": {},
   "source": [
    "# Exercises\n",
    "\n",
    "Your exercise should you choose to accept, is to \n",
    "\n",
    "1. change the model class to use Convolution Layers and re-run with the same training code in cells below.\n",
    "2. Edit the code above for denoising autoencoder? (bonus point if your code it)\n",
    "3. Briefly describe the performance of using the fully connected auto-encoder to the CNN_Autoencoder\n",
    "\n",
    "Deadline: Today: 2:pm"
   ]
  },
  {
   "cell_type": "markdown",
   "metadata": {},
   "source": []
  },
  {
   "cell_type": "markdown",
   "metadata": {},
   "source": [
    "Question 3: Briefly describe the performance of using the fully connected auto-encoder to the CNN_Autoencoder\n",
    "\n",
    "The CNN_Autoencoder perform better than the fully connected because it conserve the sparsing of the image and improve the loss after the prediction."
   ]
  },
  {
   "cell_type": "code",
   "execution_count": null,
   "metadata": {},
   "outputs": [],
   "source": []
  },
  {
   "cell_type": "code",
   "execution_count": null,
   "metadata": {},
   "outputs": [],
   "source": []
  },
  {
   "cell_type": "markdown",
   "metadata": {},
   "source": [
    "### VAE IMPLEMENTATION ASSIGNMENT"
   ]
  },
  {
   "cell_type": "code",
   "execution_count": null,
   "metadata": {},
   "outputs": [],
   "source": [
    "import torch\n",
    "from torch.autograd import Variable\n",
    "import numpy as np\n",
    "import torch.nn.functional as F\n",
    "import torchvision\n",
    "from torchvision import transforms\n",
    "import torch.optim as optim\n",
    "from torch import nn\n",
    "import matplotlib.pyplot as plt"
   ]
  },
  {
   "cell_type": "code",
   "execution_count": 35,
   "metadata": {},
   "outputs": [
    {
     "name": "stdout",
     "output_type": "stream",
     "text": [
      "Number of samples:  60000\n",
      "0 0.07010014355182648\n",
      "1 0.07133549451828003\n",
      "2 0.06841182708740234\n",
      "3 0.06931647658348083\n",
      "4 0.06609949469566345\n",
      "5 0.06836124509572983\n",
      "6 0.07027174532413483\n",
      "7 0.07064197957515717\n",
      "8 0.07068344950675964\n",
      "9 0.07102975249290466\n",
      "10 0.06829070299863815\n",
      "11 0.06951148808002472\n",
      "12 0.06708869338035583\n",
      "13 0.06364014744758606\n",
      "14 0.06260298192501068\n",
      "15 0.06436660885810852\n",
      "16 0.06404735147953033\n",
      "17 0.06531117856502533\n",
      "18 0.0666300430893898\n",
      "19 0.0704316645860672\n",
      "20 0.06571543216705322\n",
      "21 0.0664922371506691\n",
      "22 0.06587766855955124\n",
      "23 0.05838878080248833\n",
      "24 0.0693918839097023\n",
      "25 0.06370428204536438\n",
      "26 0.06782487779855728\n",
      "27 0.06315135955810547\n",
      "28 0.06421496719121933\n",
      "29 0.06745404750108719\n",
      "30 0.0680193156003952\n",
      "31 0.06362255662679672\n",
      "32 0.06912007927894592\n",
      "33 0.06987889111042023\n",
      "34 0.0715167298913002\n",
      "35 0.06841204315423965\n",
      "36 0.06827174127101898\n",
      "37 0.06233593076467514\n",
      "38 0.0678592249751091\n",
      "39 0.0637073665857315\n",
      "40 0.0651785135269165\n",
      "41 0.06744048744440079\n",
      "42 0.07019960880279541\n",
      "43 0.06375113874673843\n",
      "44 0.07429172098636627\n",
      "45 0.06883895397186279\n",
      "46 0.06502125412225723\n",
      "47 0.06503253430128098\n",
      "48 0.06134311482310295\n",
      "49 0.06503953784704208\n",
      "50 0.06699098646640778\n",
      "51 0.06626494228839874\n",
      "52 0.0636192038655281\n",
      "53 0.06327691674232483\n",
      "54 0.06553889811038971\n",
      "55 0.06650923192501068\n",
      "56 0.07000715285539627\n",
      "57 0.06814587116241455\n",
      "58 0.06578634679317474\n",
      "59 0.0679418295621872\n",
      "60 0.0665716752409935\n",
      "61 0.07143184542655945\n",
      "62 0.0691349059343338\n",
      "63 0.06885743886232376\n",
      "64 0.07040110975503922\n",
      "65 0.06724781543016434\n",
      "66 0.06473809480667114\n",
      "67 0.07372688502073288\n",
      "68 0.07265250384807587\n",
      "69 0.06696396321058273\n",
      "70 0.06652593612670898\n",
      "71 0.06250586360692978\n",
      "72 0.06814134865999222\n",
      "73 0.061386752873659134\n",
      "74 0.0686967745423317\n",
      "75 0.07219068706035614\n",
      "76 0.06403099745512009\n",
      "77 0.06566031277179718\n",
      "78 0.06484440714120865\n",
      "79 0.06953482329845428\n",
      "80 0.06668119877576828\n",
      "81 0.07348430901765823\n",
      "82 0.06826790422201157\n",
      "83 0.06915751099586487\n",
      "84 0.06298022717237473\n",
      "85 0.0643756091594696\n",
      "86 0.0683104619383812\n",
      "87 0.0640801191329956\n",
      "88 0.06390925496816635\n",
      "89 0.06517644971609116\n",
      "90 0.06221000850200653\n",
      "91 0.06869280338287354\n",
      "92 0.06241865083575249\n",
      "93 0.0661981925368309\n",
      "94 0.07201968133449554\n",
      "95 0.06983453780412674\n",
      "96 0.06823408603668213\n",
      "97 0.06446647644042969\n",
      "98 0.07234453409910202\n",
      "99 0.06908884644508362\n"
     ]
    },
    {
     "data": {
      "image/png": "[encoded data removed]",
      "text/plain": [
       "<Figure size 432x288 with 1 Axes>"
      ]
     },
     "metadata": {
      "needs_background": "light"
     },
     "output_type": "display_data"
    }
   ],
   "source": [
    "class Normal(object):\n",
    "    def __init__(self, mu, sigma, log_sigma, v=None, r=None):\n",
    "        self.mu = mu\n",
    "        self.sigma = sigma  # either stdev diagonal itself, or stdev diagonal from decomposition\n",
    "        self.logsigma = log_sigma\n",
    "        dim = mu.get_shape()\n",
    "        if v is None:\n",
    "            v = torch.FloatTensor(*dim)\n",
    "        if r is None:\n",
    "            r = torch.FloatTensor(*dim)\n",
    "        self.v = v\n",
    "        self.r = r\n",
    "\n",
    "\n",
    "class Encoder(torch.nn.Module):\n",
    "    def __init__(self, D_in, H, D_out):\n",
    "        super(Encoder, self).__init__()\n",
    "        self.linear1 = torch.nn.Linear(D_in, H)\n",
    "        self.linear2 = torch.nn.Linear(H, D_out)\n",
    "\n",
    "    def forward(self, x):\n",
    "        x = F.relu(self.linear1(x))\n",
    "        return F.relu(self.linear2(x))\n",
    "\n",
    "\n",
    "class Decoder(torch.nn.Module):\n",
    "    def __init__(self, D_in, H, D_out):\n",
    "        super(Decoder, self).__init__()\n",
    "        self.linear1 = torch.nn.Linear(D_in, H)\n",
    "        self.linear2 = torch.nn.Linear(H, D_out)\n",
    "\n",
    "    def forward(self, x):\n",
    "        x = F.relu(self.linear1(x))\n",
    "        return F.relu(self.linear2(x))\n",
    "\n",
    "\n",
    "class VAE(torch.nn.Module):\n",
    "    latent_dim = 8\n",
    "\n",
    "    def __init__(self, encoder, decoder):\n",
    "        super(VAE, self).__init__()\n",
    "        self.encoder = encoder\n",
    "        self.decoder = decoder\n",
    "        self._enc_mu = torch.nn.Linear(100, 8)\n",
    "        self._enc_log_sigma = torch.nn.Linear(100, 8)\n",
    "\n",
    "    def _sample_latent(self, h_enc):\n",
    "        \"\"\"\n",
    "        Return the latent normal sample z ~ N(mu, sigma^2)\n",
    "        \"\"\"\n",
    "        mu = self._enc_mu(h_enc)\n",
    "        log_sigma = self._enc_log_sigma(h_enc)\n",
    "        sigma = torch.exp(log_sigma)\n",
    "        std_z = torch.from_numpy(np.random.normal(0, 1, size=sigma.size())).float()\n",
    "\n",
    "        self.z_mean = mu\n",
    "        self.z_sigma = sigma\n",
    "\n",
    "        return mu + sigma * Variable(std_z, requires_grad=False)  # Reparameterization trick\n",
    "\n",
    "    def forward(self, state):\n",
    "        h_enc = self.encoder(state)\n",
    "        z = self._sample_latent(h_enc)\n",
    "        return self.decoder(z)\n",
    "\n",
    "\n",
    "def latent_loss(z_mean, z_stddev):\n",
    "    mean_sq = z_mean * z_mean\n",
    "    stddev_sq = z_stddev * z_stddev\n",
    "    return 0.5 * torch.mean(mean_sq + stddev_sq - torch.log(stddev_sq) - 1)\n",
    "\n",
    "\n",
    "if __name__ == '__main__':\n",
    "\n",
    "    input_dim = 28 * 28\n",
    "    batch_size = 32\n",
    "\n",
    "    transform = transforms.Compose(\n",
    "        [transforms.ToTensor()])\n",
    "    mnist = torchvision.datasets.MNIST('./', download=True, transform=transform)\n",
    "\n",
    "    dataloader = torch.utils.data.DataLoader(mnist, batch_size=batch_size,\n",
    "                                             shuffle=True, num_workers=2)\n",
    "\n",
    "    print('Number of samples: ', len(mnist))\n",
    "\n",
    "    encoder = Encoder(input_dim, 100, 100)\n",
    "    decoder = Decoder(8, 100, input_dim)\n",
    "    vae = VAE(encoder, decoder)\n",
    "\n",
    "    criterion = nn.MSELoss()\n",
    "\n",
    "    optimizer = optim.Adam(vae.parameters(), lr=0.0001)\n",
    "    l = None\n",
    "    for epoch in range(100):\n",
    "        for i, data in enumerate(dataloader, 0):\n",
    "            inputs, classes = data\n",
    "            inputs, classes = Variable(inputs.resize_(batch_size, input_dim)), Variable(classes)\n",
    "            optimizer.zero_grad()\n",
    "            dec = vae(inputs)\n",
    "            ll = latent_loss(vae.z_mean, vae.z_sigma)\n",
    "            loss = criterion(dec, inputs) + ll\n",
    "            loss.backward()\n",
    "            optimizer.step()\n",
    "            l = loss.item()\n",
    "        print(epoch, l)\n",
    "\n",
    "    plt.imshow(vae(inputs).data[0].numpy().reshape(28, 28), cmap='gray')\n",
    "plt.show(block=True)"
   ]
  },
  {
   "cell_type": "code",
   "execution_count": null,
   "metadata": {},
   "outputs": [],
   "source": []
  }
 ],
 "metadata": {
  "kernelspec": {
   "display_name": "Python 3",
   "language": "python",
   "name": "python3"
  },
  "language_info": {
   "codemirror_mode": {
    "name": "ipython",
    "version": 3
   },
   "file_extension": ".py",
   "mimetype": "text/x-python",
   "name": "python",
   "nbconvert_exporter": "python",
   "pygments_lexer": "ipython3",
   "version": "3.7.3"
  }
 },
 "nbformat": 4,
 "nbformat_minor": 4
}
