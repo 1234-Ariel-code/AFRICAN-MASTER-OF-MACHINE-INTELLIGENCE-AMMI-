{
 "cells": [
  {
   "cell_type": "code",
   "execution_count": 1,
   "metadata": {},
   "outputs": [],
   "source": [
    "from torch.utils.data import Dataset\n",
    "import os\n",
    "import torch\n",
    "import torchvision\n",
    "import torch.nn as nn\n",
    "import torch.nn.functional as F\n",
    "import torch.optim as optim\n",
    "from torchvision import datasets, transforms\n",
    "import matplotlib.pyplot as plt\n",
    "import numpy\n",
    "from torch.utils.data import Dataset\n",
    "import glob\n",
    "from PIL import Image\n",
    "from torch.utils.data import DataLoader\n",
    "\n",
    "from dataset import datasetloader\n",
    "from model import CNN\n",
    "import numpy as np\n",
    "\n",
    "#function to count number of parameters\n",
    "def get_n_params(model):\n",
    "    np=0\n",
    "    for p in list(model.parameters()):\n",
    "        np += p.nelement()\n",
    "    return np\n",
    "\n",
    "input_size  = 224*224*3   # images are 224*224 pixels and has 3 channels because of RGB color\n",
    "output_size = 2      # there are 2 classes---Cat and dog\n",
    "\n",
    "# number of subprocesses to use for data loading\n",
    "num_workers = 2\n",
    "# how many samples per batch to load\n",
    "batch_size = 4\n",
    "\n",
    "\n",
    "# define training and test data directories\n",
    "#data_dir = '/home/aims/data_cat&dog'\n",
    "data_dir = './Cat_Dog_DataSet/'\n",
    "train_dir = os.path.join(data_dir, 'train/')\n",
    "test_dir = os.path.join(data_dir, 'test/')\n",
    "\n",
    "\n",
    "#create transformers\n",
    "train_transform = transforms.Compose([transforms.RandomResizedCrop(size=256, scale=(0.8, 1.0)),\n",
    "                                    transforms.RandomRotation(degrees=15),\n",
    "                                    transforms.RandomHorizontalFlip(),\n",
    "                                    transforms.CenterCrop(size=224),\n",
    "                                    transforms.ToTensor()])\n",
    "                                    #transforms.Normalize([0.485, 0.456, 0.406],\n",
    "                                     #                    [0.229, 0.224, 0.225])])\n",
    "test_transforms = transforms.Compose([transforms.RandomResizedCrop(size=256, scale=(0.8, 1.0)),\n",
    "                                    transforms.RandomRotation(degrees=15),\n",
    "                                    transforms.RandomHorizontalFlip(),\n",
    "                                    transforms.CenterCrop(size=224),\n",
    "                                    transforms.ToTensor()])\n",
    "                                   # transforms.Normalize([0.485, 0.456, 0.406],\n",
    "                                    #                     [0.229, 0.224, 0.225])])\n",
    "\n",
    "\n",
    "#train_data = datasets.ImageFolder(train_dir, transform=train_transform)\n",
    "#test_data = datasets.ImageFolder(test_dir, transform=test_transforms)\n",
    "\n",
    "\n",
    "# train_loader = torch.utils.data.DataLoader(train_data, batch_size=batch_size,\n",
    "#      num_workers=num_workers, shuffle=True)\n",
    "# test_loader = torch.utils.data.DataLoader(test_data, batch_size=batch_size, \n",
    "#      num_workers=num_workers)\n",
    "\n",
    "image_size = (224, 224)\n",
    "image_row_size = image_size[0] * image_size[1]\n",
    "\n",
    "\n",
    "mean = [0.485, 0.456, 0.406]\n",
    "std  = [0.229, 0.224, 0.225]\n",
    "train_transform = transforms.Compose([\n",
    "                                transforms.Resize(image_size), \n",
    "                                                    transforms.ToTensor(), \n",
    "                                transforms.Normalize(mean, std)])\n",
    "test_transforms = transforms.Compose([\n",
    "                                transforms.Resize(image_size), \n",
    "                                transforms.ToTensor(), \n",
    "                                transforms.Normalize(mean, std)])\n",
    "#print(\"bfore\")\n",
    "train_dataset = datasetloader(train_dir, transform=train_transform)\n",
    "#print(len(train_dataset))\n",
    "test_dataset = datasetloader(test_dir, transform=test_transforms)\n",
    "\n",
    "train_loader = torch.utils.data.DataLoader(train_dataset, batch_size=batch_size,\n",
    "     num_workers=num_workers, shuffle=True)\n",
    "test_loader = torch.utils.data.DataLoader(test_dataset, batch_size=batch_size, \n",
    "     num_workers=num_workers)\n",
    "\n",
    "device = torch.device(\"cuda:0\" if torch.cuda.is_available() else \"cpu\")\n",
    "\n",
    "accuracy_list = []\n",
    "\n",
    "def train(epoch, model):\n",
    "    model.train()\n",
    "    \n",
    "    for batch_idx, (data, target) in enumerate(train_loader):\n",
    "        \n",
    "        #print(data[0].shape)\n",
    "        optimizer.zero_grad()\n",
    "        output = model(data)\n",
    "        loss = F.nll_loss(output, target)\n",
    "        loss.backward()\n",
    "        optimizer.step()\n",
    "        if batch_idx % 100 == 0:\n",
    "            print('Train Epoch: {} [{}/{} ({:.0f}%)]\\tLoss: {:.6f}'.format(\n",
    "                epoch, batch_idx * len(data), len(train_loader.dataset),\n",
    "                100. * batch_idx / len(train_loader), loss.item()))\n",
    "            \n",
    "def test(model, perm=torch.arange(0, 224*224).long()):\n",
    "    model.eval()\n",
    "    test_loss = 0\n",
    "    correct = 0\n",
    "    for data, target in test_loader:\n",
    "        \n",
    "        output = model(data)\n",
    "        test_loss += F.nll_loss(output, target, reduction='sum').item() # sum up batch loss                                                               \n",
    "        pred = output.data.max(1, keepdim=True)[1] # get the index of the max log-probability                                                                 \n",
    "        correct += pred.eq(target.data.view_as(pred)).cpu().sum().item()\n",
    "\n",
    "    test_loss /= len(test_loader.dataset)\n",
    "    accuracy = 100. * correct / len(test_loader.dataset)\n",
    "    accuracy_list.append(accuracy)\n",
    "    print('\\nTest set: Average loss: {:.4f}, Accuracy: {}/{} ({:.0f}%)\\n'.format(\n",
    "        test_loss, correct, len(test_loader.dataset),\n",
    "        accuracy))"
   ]
  },
  {
   "cell_type": "code",
   "execution_count": 2,
   "metadata": {},
   "outputs": [
    {
     "data": {
      "text/plain": [
       "<torch.utils.data.dataloader.DataLoader at 0x7f4e1defb240>"
      ]
     },
     "execution_count": 2,
     "metadata": {},
     "output_type": "execute_result"
    }
   ],
   "source": [
    "train_loader"
   ]
  },
  {
   "cell_type": "code",
   "execution_count": 3,
   "metadata": {},
   "outputs": [],
   "source": [
    "class datasetloader(Dataset):\n",
    "    \n",
    "    def __init__(self, path, transform=None):\n",
    "        self.classes   = os.listdir(path)\n",
    "        self.path      = [f\"{path}/{className}\" for className in self.classes]\n",
    "        self.file_list = [glob.glob(f\"{x}/*\") for x in self.path]\n",
    "        self.transform = transform\n",
    "        \n",
    "        files = []\n",
    "        for i, className in enumerate(self.classes):\n",
    "            for fileName in self.file_list[i]:\n",
    "                files.append([i, className, fileName])\n",
    "        self.file_list = files\n",
    "        files = None\n",
    "        \n",
    "    def __len__(self):\n",
    "        return len(self.file_list)\n",
    "\n",
    "    def __getitem__(self, idx):\n",
    "        fileName = self.file_list[idx][2]\n",
    "        classCategory = self.file_list[idx][0]\n",
    "        im = Image.open(fileName)\n",
    "        if self.transform:\n",
    "            im = self.transform(im)\n",
    "        return im, classCategory"
   ]
  },
  {
   "cell_type": "code",
   "execution_count": 4,
   "metadata": {},
   "outputs": [],
   "source": [
    "import cv2"
   ]
  },
  {
   "cell_type": "code",
   "execution_count": 5,
   "metadata": {},
   "outputs": [],
   "source": [
    " def loading_data(path):\n",
    "        classes   = os.listdir(path)\n",
    "        path      = [f\"{path}/{className}\" for className in classes]\n",
    "        file_list = [glob.glob(f\"{x}/*\") for x in path]\n",
    "        \n",
    "        \n",
    "        files = []\n",
    "        for i, className in enumerate(classes):\n",
    "            for fileName in file_list[i]:\n",
    "                files.append([i, className, fileName])\n",
    "        file_list = files\n",
    "        return files "
   ]
  },
  {
   "cell_type": "code",
   "execution_count": 6,
   "metadata": {},
   "outputs": [],
   "source": [
    "path=os.path.join(data_dir, 'train/')\n",
    "file_name = loading_data(path)"
   ]
  },
  {
   "cell_type": "code",
   "execution_count": 7,
   "metadata": {},
   "outputs": [],
   "source": [
    "images_new=[]\n",
    "for i in file_name:\n",
    "    t=cv2.imread(i[2],cv2.IMREAD_GRAYSCALE)\n",
    "    t1=cv2.resize(t,(100,100))\n",
    "    images_new.append(t1)"
   ]
  },
  {
   "cell_type": "code",
   "execution_count": null,
   "metadata": {},
   "outputs": [],
   "source": []
  },
  {
   "cell_type": "code",
   "execution_count": 8,
   "metadata": {},
   "outputs": [],
   "source": [
    "images_new=np.array(images_new)\n",
    "index=np.array(list(range(len(images_new))))\n",
    "np.random.shuffle(index)\n",
    "np.random.seed(6)\n",
    "images_new=images_new[index]\n",
    "v=torch.zeros(size=(4,100,100))\n",
    "for i in range(4):\n",
    "    v[i]=torch.Tensor(images_new[i])"
   ]
  },
  {
   "cell_type": "code",
   "execution_count": 9,
   "metadata": {},
   "outputs": [
    {
     "data": {
      "text/plain": [
       "array([ 8, 12, 10, 48, 15, 41, 53, 49, 24,  2, 16, 29, 51, 38,  3, 58, 50,\n",
       "       14, 17, 59,  5, 56, 26, 47, 33,  7, 46,  9,  0, 27, 40, 37, 39, 11,\n",
       "       28, 30, 23, 31, 35, 18, 19, 54, 55, 36, 20, 21, 25, 32,  1, 42, 45,\n",
       "       13,  4, 22, 43,  6, 34, 44, 52, 57])"
      ]
     },
     "execution_count": 9,
     "metadata": {},
     "output_type": "execute_result"
    }
   ],
   "source": [
    "index"
   ]
  },
  {
   "cell_type": "code",
   "execution_count": 10,
   "metadata": {},
   "outputs": [
    {
     "name": "stdout",
     "output_type": "stream",
     "text": [
      "Number of parameters: 10610\n",
      "Train Epoch: 0 [0/60 (0%)]\tLoss: 0.693494\n",
      "\n",
      "Test set: Average loss: 0.6926, Accuracy: 11/24 (46%)\n",
      "\n"
     ]
    }
   ],
   "source": [
    "# Training settings \n",
    "n_features = 2 # hyperparameter\n",
    "\n",
    "model_cnn = CNN(input_size, n_features, output_size)\n",
    "criterion = nn.CrossEntropyLoss()\n",
    "optimizer = optim.SGD(model_cnn.parameters(), lr=0.01, momentum=0.5)\n",
    "print('Number of parameters: {}'.format(get_n_params(model_cnn)))\n",
    "\n",
    "for epoch in range(0, 1):\n",
    "    train(epoch, model_cnn)\n",
    "    test(model_cnn)\n"
   ]
  },
  {
   "cell_type": "code",
   "execution_count": 11,
   "metadata": {},
   "outputs": [],
   "source": [
    "def matplotlib_imshow(img, one_channel=False):\n",
    "    if one_channel:\n",
    "        img = img.mean(dim=0)\n",
    "    img = img / 2 + 0.5     # unnormalize\n",
    "    npimg = img.numpy()\n",
    "    if one_channel:\n",
    "        plt.imshow(npimg, cmap=\"plasma\")\n",
    "    else:\n",
    "        plt.imshow(np.transpose(npimg, (1, 2, 0)))"
   ]
  },
  {
   "cell_type": "code",
   "execution_count": null,
   "metadata": {},
   "outputs": [],
   "source": []
  },
  {
   "cell_type": "code",
   "execution_count": 12,
   "metadata": {},
   "outputs": [],
   "source": [
    "from torch.utils.tensorboard import SummaryWriter\n",
    "\n",
    "# default `log_dir` is \"runs\" - we'll be more specific here\n",
    "writer = SummaryWriter('runs/fashion_cat&dog_experiment_1')"
   ]
  },
  {
   "cell_type": "code",
   "execution_count": 13,
   "metadata": {},
   "outputs": [],
   "source": [
    "imgrid=torchvision.utils.make_grid(v.unsqueeze(1),normalize=True)"
   ]
  },
  {
   "cell_type": "code",
   "execution_count": 14,
   "metadata": {},
   "outputs": [
    {
     "data": {
      "image/png": "[encoded data removed]",
      "text/plain": [
       "<Figure size 432x288 with 1 Axes>"
      ]
     },
     "metadata": {
      "needs_background": "light"
     },
     "output_type": "display_data"
    }
   ],
   "source": [
    "# get some random training images\n",
    "dataiter = iter(train_loader)\n",
    "images, labels = dataiter.next()\n",
    "\n",
    "# create grid of images\n",
    "img_grid = torchvision.utils.make_grid(images,normalize=True)\n",
    "\n",
    "# show images\n",
    "matplotlib_imshow(img_grid, one_channel=True)\n",
    "\n",
    "# write to tensorboard\n",
    "writer.add_image('four_fashion_cat&dog_images', img_grid)"
   ]
  },
  {
   "cell_type": "code",
   "execution_count": 15,
   "metadata": {},
   "outputs": [
    {
     "name": "stdout",
     "output_type": "stream",
     "text": [
      "W0121 13:58:08.045758 139971506706176 plugin_event_accumulator.py:294] Found more than one graph event per run, or there was a metagraph containing a graph_def, as well as one or more graph events.  Overwriting the graph with the newest event.\n",
      "W0121 13:58:08.045941 139971506706176 plugin_event_accumulator.py:322] Found more than one \"run metadata\" event with tag step1. Overwriting it with the newest event.\n",
      "W0121 13:58:08.055433 139971506706176 plugin_event_accumulator.py:294] Found more than one graph event per run, or there was a metagraph containing a graph_def, as well as one or more graph events.  Overwriting the graph with the newest event.\n",
      "W0121 13:58:08.055567 139971506706176 plugin_event_accumulator.py:322] Found more than one \"run metadata\" event with tag step1. Overwriting it with the newest event.\n",
      "W0121 13:58:08.058702 139971506706176 plugin_event_accumulator.py:294] Found more than one graph event per run, or there was a metagraph containing a graph_def, as well as one or more graph events.  Overwriting the graph with the newest event.\n",
      "W0121 13:58:08.058835 139971506706176 plugin_event_accumulator.py:322] Found more than one \"run metadata\" event with tag step1. Overwriting it with the newest event.\n",
      "W0121 13:58:08.088144 139971506706176 plugin_event_accumulator.py:294] Found more than one graph event per run, or there was a metagraph containing a graph_def, as well as one or more graph events.  Overwriting the graph with the newest event.\n",
      "W0121 13:58:08.088284 139971506706176 plugin_event_accumulator.py:322] Found more than one \"run metadata\" event with tag step1. Overwriting it with the newest event.\n",
      "W0121 13:58:08.094856 139971506706176 plugin_event_accumulator.py:294] Found more than one graph event per run, or there was a metagraph containing a graph_def, as well as one or more graph events.  Overwriting the graph with the newest event.\n",
      "W0121 13:58:08.094999 139971506706176 plugin_event_accumulator.py:322] Found more than one \"run metadata\" event with tag step1. Overwriting it with the newest event.\n",
      "W0121 13:58:08.101567 139971506706176 plugin_event_accumulator.py:294] Found more than one graph event per run, or there was a metagraph containing a graph_def, as well as one or more graph events.  Overwriting the graph with the newest event.\n",
      "W0121 13:58:08.101741 139971506706176 plugin_event_accumulator.py:322] Found more than one \"run metadata\" event with tag step1. Overwriting it with the newest event.\n",
      "W0121 13:58:08.109545 139971506706176 plugin_event_accumulator.py:294] Found more than one graph event per run, or there was a metagraph containing a graph_def, as well as one or more graph events.  Overwriting the graph with the newest event.\n",
      "W0121 13:58:08.109729 139971506706176 plugin_event_accumulator.py:322] Found more than one \"run metadata\" event with tag step1. Overwriting it with the newest event.\n",
      "W0121 13:58:08.112955 139971506706176 plugin_event_accumulator.py:294] Found more than one graph event per run, or there was a metagraph containing a graph_def, as well as one or more graph events.  Overwriting the graph with the newest event.\n",
      "W0121 13:58:08.113116 139971506706176 plugin_event_accumulator.py:322] Found more than one \"run metadata\" event with tag step1. Overwriting it with the newest event.\n",
      "W0121 13:58:08.123748 139971506706176 plugin_event_accumulator.py:294] Found more than one graph event per run, or there was a metagraph containing a graph_def, as well as one or more graph events.  Overwriting the graph with the newest event.\n",
      "W0121 13:58:08.123893 139971506706176 plugin_event_accumulator.py:322] Found more than one \"run metadata\" event with tag step1. Overwriting it with the newest event.\n",
      "W0121 13:58:08.127403 139971506706176 plugin_event_accumulator.py:294] Found more than one graph event per run, or there was a metagraph containing a graph_def, as well as one or more graph events.  Overwriting the graph with the newest event.\n",
      "W0121 13:58:08.127537 139971506706176 plugin_event_accumulator.py:322] Found more than one \"run metadata\" event with tag step1. Overwriting it with the newest event.\n",
      "W0121 13:58:08.135489 139971506706176 plugin_event_accumulator.py:294] Found more than one graph event per run, or there was a metagraph containing a graph_def, as well as one or more graph events.  Overwriting the graph with the newest event.\n",
      "W0121 13:58:08.135651 139971506706176 plugin_event_accumulator.py:322] Found more than one \"run metadata\" event with tag step1. Overwriting it with the newest event.\n",
      "W0121 13:58:08.148997 139971506706176 plugin_event_accumulator.py:294] Found more than one graph event per run, or there was a metagraph containing a graph_def, as well as one or more graph events.  Overwriting the graph with the newest event.\n",
      "W0121 13:58:08.149143 139971506706176 plugin_event_accumulator.py:322] Found more than one \"run metadata\" event with tag step1. Overwriting it with the newest event.\n",
      "W0121 13:58:08.152811 139971506706176 plugin_event_accumulator.py:294] Found more than one graph event per run, or there was a metagraph containing a graph_def, as well as one or more graph events.  Overwriting the graph with the newest event.\n",
      "W0121 13:58:08.152955 139971506706176 plugin_event_accumulator.py:322] Found more than one \"run metadata\" event with tag step1. Overwriting it with the newest event.\n",
      "W0121 13:58:08.156088 139971506706176 plugin_event_accumulator.py:294] Found more than one graph event per run, or there was a metagraph containing a graph_def, as well as one or more graph events.  Overwriting the graph with the newest event.\n",
      "W0121 13:58:08.156255 139971506706176 plugin_event_accumulator.py:322] Found more than one \"run metadata\" event with tag step1. Overwriting it with the newest event.\n",
      "W0121 13:58:08.167836 139971506706176 plugin_event_accumulator.py:294] Found more than one graph event per run, or there was a metagraph containing a graph_def, as well as one or more graph events.  Overwriting the graph with the newest event.\n",
      "W0121 13:58:08.167987 139971506706176 plugin_event_accumulator.py:322] Found more than one \"run metadata\" event with tag step1. Overwriting it with the newest event.\n",
      "TensorBoard 1.14.0a20190603 at http://aims-pc:6007/ (Press CTRL+C to quit)\n",
      "W0121 13:58:08.200155 139971506706176 plugin_event_accumulator.py:294] Found more than one graph event per run, or there was a metagraph containing a graph_def, as well as one or more graph events.  Overwriting the graph with the newest event.\n",
      "W0121 13:58:08.200323 139971506706176 plugin_event_accumulator.py:322] Found more than one \"run metadata\" event with tag step1. Overwriting it with the newest event.\n",
      "W0121 13:58:08.232194 139971506706176 plugin_event_accumulator.py:294] Found more than one graph event per run, or there was a metagraph containing a graph_def, as well as one or more graph events.  Overwriting the graph with the newest event.\n",
      "W0121 13:58:08.232342 139971506706176 plugin_event_accumulator.py:322] Found more than one \"run metadata\" event with tag step1. Overwriting it with the newest event.\n",
      "W0121 13:58:08.262969 139971506706176 plugin_event_accumulator.py:294] Found more than one graph event per run, or there was a metagraph containing a graph_def, as well as one or more graph events.  Overwriting the graph with the newest event.\n",
      "W0121 13:58:08.263137 139971506706176 plugin_event_accumulator.py:322] Found more than one \"run metadata\" event with tag step1. Overwriting it with the newest event.\n",
      "W0121 13:58:08.284142 139971506706176 plugin_event_accumulator.py:294] Found more than one graph event per run, or there was a metagraph containing a graph_def, as well as one or more graph events.  Overwriting the graph with the newest event.\n",
      "W0121 13:58:08.284286 139971506706176 plugin_event_accumulator.py:322] Found more than one \"run metadata\" event with tag step1. Overwriting it with the newest event.\n",
      "W0121 13:58:08.291363 139971506706176 plugin_event_accumulator.py:294] Found more than one graph event per run, or there was a metagraph containing a graph_def, as well as one or more graph events.  Overwriting the graph with the newest event.\n",
      "W0121 13:58:08.291506 139971506706176 plugin_event_accumulator.py:322] Found more than one \"run metadata\" event with tag step1. Overwriting it with the newest event.\n",
      "W0121 13:58:08.298707 139971506706176 plugin_event_accumulator.py:294] Found more than one graph event per run, or there was a metagraph containing a graph_def, as well as one or more graph events.  Overwriting the graph with the newest event.\n",
      "W0121 13:58:08.298855 139971506706176 plugin_event_accumulator.py:322] Found more than one \"run metadata\" event with tag step1. Overwriting it with the newest event.\n",
      "W0121 13:58:08.305236 139971506706176 plugin_event_accumulator.py:294] Found more than one graph event per run, or there was a metagraph containing a graph_def, as well as one or more graph events.  Overwriting the graph with the newest event.\n",
      "W0121 13:58:08.305387 139971506706176 plugin_event_accumulator.py:322] Found more than one \"run metadata\" event with tag step1. Overwriting it with the newest event.\n",
      "W0121 13:58:08.311825 139971506706176 plugin_event_accumulator.py:294] Found more than one graph event per run, or there was a metagraph containing a graph_def, as well as one or more graph events.  Overwriting the graph with the newest event.\n",
      "W0121 13:58:08.311966 139971506706176 plugin_event_accumulator.py:322] Found more than one \"run metadata\" event with tag step1. Overwriting it with the newest event.\n",
      "^C\n"
     ]
    }
   ],
   "source": [
    "!tensorboard --logdir=runs"
   ]
  },
  {
   "cell_type": "code",
   "execution_count": null,
   "metadata": {},
   "outputs": [],
   "source": []
  },
  {
   "cell_type": "code",
   "execution_count": 15,
   "metadata": {},
   "outputs": [],
   "source": [
    "writer.add_graph(model_cnn, images)\n",
    "writer.close()"
   ]
  },
  {
   "cell_type": "code",
   "execution_count": null,
   "metadata": {},
   "outputs": [],
   "source": []
  },
  {
   "cell_type": "code",
   "execution_count": 16,
   "metadata": {},
   "outputs": [],
   "source": [
    "P=torch.zeros(size=(60,3,100,100))\n",
    "P1=torch.zeros(60)"
   ]
  },
  {
   "cell_type": "code",
   "execution_count": 17,
   "metadata": {},
   "outputs": [],
   "source": [
    "classes = train_dataset.classes"
   ]
  },
  {
   "cell_type": "code",
   "execution_count": null,
   "metadata": {},
   "outputs": [],
   "source": []
  },
  {
   "cell_type": "code",
   "execution_count": 18,
   "metadata": {},
   "outputs": [
    {
     "name": "stdout",
     "output_type": "stream",
     "text": [
      "warning: Embedding dir exists, did you set global_step for add_embedding()?\n"
     ]
    }
   ],
   "source": [
    "## helper function\n",
    "def select_n_random(data, labels, n=60):\n",
    "    '''\n",
    "    Selects n random datapoints and their corresponding labels from a dataset\n",
    "    '''\n",
    "    assert len(data) == len(labels)\n",
    "\n",
    "    perm = torch.randperm(len(data))\n",
    "    return data[perm][:n], labels[perm][:n]\n",
    "\n",
    "# select random images and their target indices\n",
    "images, labels = select_n_random(P, P1)\n",
    "\n",
    "# get the class labels for each image\n",
    "class_labels = [classes[int(lab)] for lab in labels]\n",
    "\n",
    "# log embeddings\n",
    "features = images.view(-1, 100 * 100 * 3)\n",
    "writer.add_embedding(features,\n",
    "                    metadata=class_labels,\n",
    "                    label_img=images)\n",
    "writer.close()"
   ]
  },
  {
   "cell_type": "code",
   "execution_count": 24,
   "metadata": {},
   "outputs": [],
   "source": [
    "#import tensorflow"
   ]
  },
  {
   "cell_type": "code",
   "execution_count": 23,
   "metadata": {},
   "outputs": [
    {
     "name": "stdout",
     "output_type": "stream",
     "text": [
      "Uninstalling tensorflow-2.0.0:\n",
      "  Would remove:\n",
      "    /home/aims/anaconda3/envs/aims/bin/saved_model_cli\n",
      "    /home/aims/anaconda3/envs/aims/bin/tensorboard\n",
      "    /home/aims/anaconda3/envs/aims/bin/tf_upgrade_v2\n",
      "    /home/aims/anaconda3/envs/aims/bin/tflite_convert\n",
      "    /home/aims/anaconda3/envs/aims/bin/toco\n",
      "    /home/aims/anaconda3/envs/aims/bin/toco_from_protos\n",
      "    /home/aims/anaconda3/envs/aims/lib/python3.6/site-packages/tensorflow-2.0.0.dist-info/*\n",
      "    /home/aims/anaconda3/envs/aims/lib/python3.6/site-packages/tensorflow/*\n",
      "    /home/aims/anaconda3/envs/aims/lib/python3.6/site-packages/tensorflow_core/*\n",
      "Proceed (y/n)? ^C\n",
      "\u001b[31mERROR: Operation cancelled by user\u001b[0m\n"
     ]
    }
   ],
   "source": [
    "#!pip uninstall tensorflow"
   ]
  },
  {
   "cell_type": "code",
   "execution_count": 25,
   "metadata": {},
   "outputs": [
    {
     "name": "stdout",
     "output_type": "stream",
     "text": [
      "/home/aims/anaconda3/envs/aims/bin/python\n"
     ]
    }
   ],
   "source": [
    "#!which python"
   ]
  },
  {
   "cell_type": "code",
   "execution_count": 19,
   "metadata": {},
   "outputs": [],
   "source": [
    "# helper functions\n",
    "\n",
    "def images_to_probs(net, images):\n",
    "    '''\n",
    "    Generates predictions and corresponding probabilities from a trained\n",
    "    network and a list of images\n",
    "    '''\n",
    "    output = net(images)\n",
    "    # convert output probabilities to predicted class\n",
    "    _, preds_tensor = torch.max(output, 1)\n",
    "    preds = np.squeeze(preds_tensor.numpy())\n",
    "    return preds, [F.softmax(el, dim=0)[i].item() for i, el in zip(preds, output)]\n",
    "\n",
    "\n",
    "def plot_classes_preds(net, images, labels):\n",
    "    '''\n",
    "    Generates matplotlib Figure using a trained network, along with images\n",
    "    and labels from a batch, that shows the network's top prediction along\n",
    "    with its probability, alongside the actual label, coloring this\n",
    "    information based on whether the prediction was correct or not.\n",
    "    Uses the \"images_to_probs\" function.\n",
    "    '''\n",
    "    preds, probs = images_to_probs(net, images)\n",
    "    # plot the images in the batch, along with predicted and true labels\n",
    "    fig = plt.figure(figsize=(12, 48))\n",
    "    for idx in np.arange(4):\n",
    "        ax = fig.add_subplot(1, 4, idx+1, xticks=[], yticks=[])\n",
    "        matplotlib_imshow(images[idx], one_channel=True)\n",
    "        ax.set_title(\"{0}, {1:.1f}%\\n(label: {2})\".format(\n",
    "            classes[preds[idx]],\n",
    "            probs[idx] * 100.0,\n",
    "            classes[labels[idx]]),\n",
    "                    color=(\"green\" if preds[idx]==labels[idx].item() else \"red\"))\n",
    "    return fig"
   ]
  },
  {
   "cell_type": "code",
   "execution_count": null,
   "metadata": {},
   "outputs": [],
   "source": []
  },
  {
   "cell_type": "code",
   "execution_count": 29,
   "metadata": {},
   "outputs": [
    {
     "name": "stdout",
     "output_type": "stream",
     "text": [
      "Finished Training\n"
     ]
    }
   ],
   "source": [
    "import numpy as np\n",
    "running_loss = 0.0\n",
    "for epoch in range(100):  # loop over the dataset multiple times\n",
    "\n",
    "    for i, data in enumerate(train_loader, 0):\n",
    "\n",
    "        # get the inputs; data is a list of [inputs, labels]\n",
    "        inputs, labels = data\n",
    "\n",
    "        # zero the parameter gradients\n",
    "        optimizer.zero_grad()\n",
    "\n",
    "        # forward + backward + optimize\n",
    "        outputs = model_cnn(inputs)\n",
    "        loss = criterion(outputs, labels)\n",
    "        loss.backward()\n",
    "        optimizer.step()\n",
    "        \n",
    "        running_loss += loss.item()\n",
    "        if i % 1000 == 999:    # every 1000 mini-batches...\n",
    "            print(running_loss)\n",
    "            # ...log the running loss\n",
    "            writer.add_scalar('training loss',\n",
    "                            running_loss / 1000,\n",
    "                            epoch * len(train_loader) + i)\n",
    "\n",
    "            # ...log a Matplotlib Figure showing the model's predictions on a\n",
    "            # random mini-batch\n",
    "            writer.add_figure('predictions vs. actuals',\n",
    "                            plot_classes_preds(model_cnn, inputs, labels),\n",
    "                            global_step=epoch * len(train_loader) + i)\n",
    "            running_loss = 0.0\n",
    "print('Finished Training')\n"
   ]
  },
  {
   "cell_type": "code",
   "execution_count": null,
   "metadata": {},
   "outputs": [],
   "source": []
  },
  {
   "cell_type": "code",
   "execution_count": 21,
   "metadata": {},
   "outputs": [],
   "source": [
    "# 1. gets the probability predictions in a test_size x num_classes Tensor\n",
    "# 2. gets the preds in a test_size Tensor\n",
    "# takes ~10 seconds to run\n",
    "class_probs = []\n",
    "class_preds = []\n",
    "with torch.no_grad():\n",
    "    for data in test_loader:\n",
    "        images, labels = data\n",
    "        output = model_cnn(images)\n",
    "        class_probs_batch = [F.softmax(el, dim=0) for el in output]\n",
    "        _, class_preds_batch = torch.max(output, 1)\n",
    "\n",
    "        class_probs.append(class_probs_batch)\n",
    "        class_preds.append(class_preds_batch)\n",
    "\n",
    "test_probs = torch.cat([torch.stack(batch) for batch in class_probs])\n",
    "test_preds = torch.cat(class_preds)\n",
    "\n",
    "# helper function\n",
    "def add_pr_curve_tensorboard(class_index, test_probs, test_preds, global_step=0):\n",
    "    '''\n",
    "    Takes in a \"class_index\" from 0 to 9 and plots the corresponding\n",
    "    precision-recall curve\n",
    "    '''\n",
    "    tensorboard_preds = test_preds == class_index\n",
    "    tensorboard_probs = test_probs[:, class_index]\n",
    "\n",
    "    writer.add_pr_curve(classes[class_index],\n",
    "                        tensorboard_preds,\n",
    "                        tensorboard_probs,\n",
    "                        global_step=global_step)\n",
    "    writer.close()\n",
    "\n",
    "# plot all the pr curves\n",
    "for i in range(len(classes)):\n",
    "    add_pr_curve_tensorboard(i, test_probs, test_preds)\n"
   ]
  },
  {
   "cell_type": "code",
   "execution_count": null,
   "metadata": {},
   "outputs": [],
   "source": []
  }
 ],
 "metadata": {
  "kernelspec": {
   "display_name": "Python 3",
   "language": "python",
   "name": "python3"
  },
  "language_info": {
   "codemirror_mode": {
    "name": "ipython",
    "version": 3
   },
   "file_extension": ".py",
   "mimetype": "text/x-python",
   "name": "python",
   "nbconvert_exporter": "python",
   "pygments_lexer": "ipython3",
   "version": "3.6.10"
  }
 },
 "nbformat": 4,
 "nbformat_minor": 4
}
